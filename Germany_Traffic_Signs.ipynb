{
  "nbformat": 4,
  "nbformat_minor": 0,
  "metadata": {
    "colab": {
      "name": "Untitled5.ipynb",
      "provenance": [],
      "collapsed_sections": []
    },
    "kernelspec": {
      "name": "python3",
      "display_name": "Python 3"
    }
  },
  "cells": [
    {
      "cell_type": "code",
      "metadata": {
        "id": "fzvyfp4mbHBv",
        "colab_type": "code",
        "outputId": "03d55d1f-5007-4e8e-9a57-b8e109a9cacf",
        "colab": {
          "base_uri": "https://localhost:8080/",
          "height": 34
        }
      },
      "source": [
        "#General imports\n",
        "import os\n",
        "import pandas as pd\n",
        "import numpy as np\n",
        "import matplotlib.pyplot as plt\n",
        "import progressbar\n",
        "from __future__ import print_function\n",
        "from sklearn.model_selection import train_test_split\n",
        "from sklearn.preprocessing import normalize\n",
        "from sklearn.decomposition import PCA\n",
        "\n",
        "# Keras imports\n",
        "import keras\n",
        "\n",
        "from keras.preprocessing.image import load_img\n",
        "from keras.models import Sequential, Model, Input\n",
        "from keras.optimizers import *\n",
        "from keras.utils.np_utils import to_categorical\n",
        "import keras.backend as K\n",
        "\n",
        "# application (model) imports\n",
        "from keras import applications\n",
        "#from keras.applications.inception_v3 import preprocess_input\n",
        "from keras.layers import Dense\n",
        "from keras.utils.np_utils import to_categorical\n",
        "from sklearn.utils import shuffle, compute_class_weight\n",
        "from sklearn.metrics import confusion_matrix\n",
        "import csv\n",
        "import cv2"
      ],
      "execution_count": 0,
      "outputs": [
        {
          "output_type": "stream",
          "text": [
            "Using TensorFlow backend.\n"
          ],
          "name": "stderr"
        }
      ]
    },
    {
      "cell_type": "code",
      "metadata": {
        "id": "BQiDiz6CbLKU",
        "colab_type": "code",
        "colab": {}
      },
      "source": [
        "def plot_loss_accuracy(history):\n",
        "    historydf = pd.DataFrame(history.history, index=history.epoch)\n",
        "    plt.figure(figsize=(8, 6))\n",
        "    historydf.plot(ylim=(0, max(1, historydf.values.max())))\n",
        "    loss = history.history['loss'][-1]\n",
        "    acc = history.history['acc'][-1]\n",
        "    plt.title('Loss: %.3f, Accuracy: %.3f' % (loss, acc))\n",
        "    plt.xlabel('Number of Epochs')"
      ],
      "execution_count": 0,
      "outputs": []
    },
    {
      "cell_type": "code",
      "metadata": {
        "id": "x-kYTs2KbQVv",
        "colab_type": "code",
        "colab": {}
      },
      "source": [
        "import requests, zipfile, io, pickle\n",
        "\n",
        "r = requests.get(\"https://d17h27t6h515a5.cloudfront.net/topher/2017/February/5898cd6f_traffic-signs-data/traffic-signs-data.zip\")\n",
        "z = zipfile.ZipFile(io.BytesIO(r.content))\n",
        "\n",
        "train = pickle.load(z.open('train.p'))\n",
        "test = pickle.load(z.open('test.p'))"
      ],
      "execution_count": 0,
      "outputs": []
    },
    {
      "cell_type": "code",
      "metadata": {
        "id": "Qf5S05SBbYFp",
        "colab_type": "code",
        "outputId": "3ec6df26-4954-4210-b0d5-9da0fbcd1655",
        "colab": {
          "base_uri": "https://localhost:8080/",
          "height": 68
        }
      },
      "source": [
        "X_train, Y_train = train['features'], train['labels']\n",
        "X_test, Y_test = test['features'], test['labels']\n",
        "n_classes = len(np.unique(Y_train))\n",
        "\n",
        "print(\"Number of train samples: \", X_train.shape[0])\n",
        "print(\"Number of test samples: \", X_test.shape[0])\n",
        "print(\"Number of classses: \", n_classes)"
      ],
      "execution_count": 0,
      "outputs": [
        {
          "output_type": "stream",
          "text": [
            "Number of train samples:  34799\n",
            "Number of test samples:  12630\n",
            "Number of classses:  43\n"
          ],
          "name": "stdout"
        }
      ]
    },
    {
      "cell_type": "code",
      "metadata": {
        "id": "6FFLC66gbjuh",
        "colab_type": "code",
        "colab": {}
      },
      "source": [
        "def show_hist(data, label):\n",
        "  plt.hist(data, bins = n_classes)\n",
        "  plt.xlabel(label)\n",
        "  plt.ylabel('class count')\n",
        "  plt.grid('off')\n",
        "  plt.show()"
      ],
      "execution_count": 0,
      "outputs": []
    },
    {
      "cell_type": "code",
      "metadata": {
        "id": "Q4o74FQcbwKJ",
        "colab_type": "code",
        "outputId": "180621a3-26c1-4bde-ce29-3c5470905260",
        "colab": {
          "base_uri": "https://localhost:8080/",
          "height": 600
        }
      },
      "source": [
        "show_hist(Y_train, \"Training examples\")\n",
        "show_hist(Y_test, \"Testing examples\")"
      ],
      "execution_count": 0,
      "outputs": [
        {
          "output_type": "stream",
          "text": [
            "/usr/local/lib/python3.6/dist-packages/matplotlib/cbook/__init__.py:424: MatplotlibDeprecationWarning: \n",
            "Passing one of 'on', 'true', 'off', 'false' as a boolean is deprecated; use an actual boolean (True/False) instead.\n",
            "  warn_deprecated(\"2.2\", \"Passing one of 'on', 'true', 'off', 'false' as a \"\n"
          ],
          "name": "stderr"
        },
        {
          "output_type": "display_data",
          "data": {
            "image/png": "[encoded data removed]",
            "text/plain": [
              "<Figure size 432x288 with 1 Axes>"
            ]
          },
          "metadata": {
            "tags": []
          }
        },
        {
          "output_type": "display_data",
          "data": {
            "image/png": "[encoded data removed]",
            "text/plain": [
              "<Figure size 432x288 with 1 Axes>"
            ]
          },
          "metadata": {
            "tags": []
          }
        }
      ]
    },
    {
      "cell_type": "code",
      "metadata": {
        "id": "8uIvw7B6bz_0",
        "colab_type": "code",
        "colab": {}
      },
      "source": [
        "X_train, Y_train = shuffle(X_train, Y_train)"
      ],
      "execution_count": 0,
      "outputs": []
    },
    {
      "cell_type": "code",
      "metadata": {
        "id": "ZEtLRBeecvLX",
        "colab_type": "code",
        "colab": {}
      },
      "source": [
        "import skimage.morphology as morp\n",
        "from skimage.filters import rank"
      ],
      "execution_count": 0,
      "outputs": []
    },
    {
      "cell_type": "code",
      "metadata": {
        "id": "tY5RSqmOb_lq",
        "colab_type": "code",
        "colab": {}
      },
      "source": [
        "def convert_to_gray(image):\n",
        "  \n",
        "  return cv2.cvtColor(image, cv2.COLOR_RGB2GRAY)"
      ],
      "execution_count": 0,
      "outputs": []
    },
    {
      "cell_type": "code",
      "metadata": {
        "id": "YCdmlVxKcJ22",
        "colab_type": "code",
        "outputId": "00f80f09-e4f8-42d1-cbf4-4fbc768d3aa7",
        "colab": {
          "base_uri": "https://localhost:8080/",
          "height": 34
        }
      },
      "source": [
        "gray_images = list(map(convert_to_gray,X_train))\n",
        "np.shape(gray_images)"
      ],
      "execution_count": 0,
      "outputs": [
        {
          "output_type": "execute_result",
          "data": {
            "text/plain": [
              "(34799, 32, 32)"
            ]
          },
          "metadata": {
            "tags": []
          },
          "execution_count": 10
        }
      ]
    },
    {
      "cell_type": "code",
      "metadata": {
        "id": "EYs5_z8zcPU5",
        "colab_type": "code",
        "colab": {}
      },
      "source": [
        "def hist_equalization(image):\n",
        "  kernel = morp.disk(30)\n",
        "  return rank.equalize(image, selem=kernel)"
      ],
      "execution_count": 0,
      "outputs": []
    },
    {
      "cell_type": "code",
      "metadata": {
        "id": "1JYk2An1cVWp",
        "colab_type": "code",
        "colab": {}
      },
      "source": [
        "def adapt_hist_equalization(image,clahe = cv2.createCLAHE(clipLimit=2.0, tileGridSize=(2,2))):\n",
        "  return clahe.apply(image)"
      ],
      "execution_count": 0,
      "outputs": []
    },
    {
      "cell_type": "code",
      "metadata": {
        "id": "9XpOhu0dcb-w",
        "colab_type": "code",
        "colab": {}
      },
      "source": [
        "\n",
        "equalizied_gray_images = list(map(hist_equalization,gray_images))"
      ],
      "execution_count": 0,
      "outputs": []
    },
    {
      "cell_type": "code",
      "metadata": {
        "id": "shW5WfM-c4fQ",
        "colab_type": "code",
        "colab": {}
      },
      "source": [
        "def norm_image(data):\n",
        "  \n",
        "  normalized_images = np.array(data,dtype = np.float32)/255\n",
        "  return np.expand_dims(normalized_images, axis=-1)"
      ],
      "execution_count": 0,
      "outputs": []
    },
    {
      "cell_type": "code",
      "metadata": {
        "id": "_6aCIYKhc9Kp",
        "colab_type": "code",
        "colab": {}
      },
      "source": [
        "def preprocess(x_data,y_data, n_classes = 43):\n",
        "  gray_images = list(map(convert_to_gray,x_data))\n",
        "  hist_equal_images = list(map(adapt_hist_equalization,gray_images))\n",
        "  norm_images = norm_image(hist_equal_images)\n",
        "  y_data = to_categorical(y_data, n_classes)\n",
        "  return norm_images, y_data "
      ],
      "execution_count": 0,
      "outputs": []
    },
    {
      "cell_type": "code",
      "metadata": {
        "id": "AkSjTuO8Mqmd",
        "colab_type": "code",
        "colab": {}
      },
      "source": [
        ""
      ],
      "execution_count": 0,
      "outputs": []
    },
    {
      "cell_type": "code",
      "metadata": {
        "id": "FgIwopIXdD0h",
        "colab_type": "code",
        "colab": {}
      },
      "source": [
        "X_train_processed, Y_train_cat = preprocess(X_train,Y_train)\n",
        "class_weights = compute_class_weight('balanced',classes = np.unique(Y_train),y = Y_train)"
      ],
      "execution_count": 0,
      "outputs": []
    },
    {
      "cell_type": "code",
      "metadata": {
        "id": "y3O9xsWxe-MO",
        "colab_type": "code",
        "colab": {}
      },
      "source": [
        "from keras.layers import Dense, Dropout, BatchNormalization, Activation, Conv2D, MaxPooling2D, Flatten\n",
        "from keras.initializers import random_normal\n",
        "from keras import optimizers"
      ],
      "execution_count": 0,
      "outputs": []
    },
    {
      "cell_type": "code",
      "metadata": {
        "id": "DmVdZG7qQTql",
        "colab_type": "code",
        "colab": {}
      },
      "source": [
        "image_size = (X_train_processed.shape[1], X_train_processed.shape[2],X_train_processed.shape[3])\n",
        "image_vector_size = image_size[0] * image_size[1]* image_size[2]"
      ],
      "execution_count": 0,
      "outputs": []
    },
    {
      "cell_type": "code",
      "metadata": {
        "id": "h8JO2n63QAN5",
        "colab_type": "code",
        "outputId": "becc95cd-e08b-4c2a-aa54-4796fa4eeb8f",
        "colab": {
          "base_uri": "https://localhost:8080/",
          "height": 323
        }
      },
      "source": [
        "def build_basic_model():\n",
        "  model = Sequential()\n",
        "\n",
        "  # The input layer requires the special input_shape parameter which should match\n",
        "  # the shape of our training data.\n",
        "  model.add(Dense(units=32, activation='sigmoid', input_shape=(image_vector_size,)))\n",
        "  model.add(Dense(units=n_classes, activation='softmax'))\n",
        "  return model\n",
        "model = build_basic_model()\n",
        "model.summary()"
      ],
      "execution_count": 0,
      "outputs": [
        {
          "output_type": "stream",
          "text": [
            "WARNING:tensorflow:From /usr/local/lib/python3.6/dist-packages/keras/backend/tensorflow_backend.py:66: The name tf.get_default_graph is deprecated. Please use tf.compat.v1.get_default_graph instead.\n",
            "\n",
            "WARNING:tensorflow:From /usr/local/lib/python3.6/dist-packages/keras/backend/tensorflow_backend.py:541: The name tf.placeholder is deprecated. Please use tf.compat.v1.placeholder instead.\n",
            "\n",
            "WARNING:tensorflow:From /usr/local/lib/python3.6/dist-packages/keras/backend/tensorflow_backend.py:4432: The name tf.random_uniform is deprecated. Please use tf.random.uniform instead.\n",
            "\n",
            "Model: \"sequential_1\"\n",
            "_________________________________________________________________\n",
            "Layer (type)                 Output Shape              Param #   \n",
            "=================================================================\n",
            "dense_1 (Dense)              (None, 32)                32800     \n",
            "_________________________________________________________________\n",
            "dense_2 (Dense)              (None, 43)                1419      \n",
            "=================================================================\n",
            "Total params: 34,219\n",
            "Trainable params: 34,219\n",
            "Non-trainable params: 0\n",
            "_________________________________________________________________\n"
          ],
          "name": "stdout"
        }
      ]
    },
    {
      "cell_type": "code",
      "metadata": {
        "id": "EYCU19QaHxGa",
        "colab_type": "code",
        "outputId": "fb795c0b-757a-49df-d806-c16395712d6a",
        "colab": {
          "base_uri": "https://localhost:8080/",
          "height": 165
        }
      },
      "source": [
        "plot_model(model,to_file='model.png')"
      ],
      "execution_count": 0,
      "outputs": [
        {
          "output_type": "error",
          "ename": "NameError",
          "evalue": "ignored",
          "traceback": [
            "\u001b[0;31m---------------------------------------------------------------------------\u001b[0m",
            "\u001b[0;31mNameError\u001b[0m                                 Traceback (most recent call last)",
            "\u001b[0;32m<ipython-input-20-2efa7b36c1c0>\u001b[0m in \u001b[0;36m<module>\u001b[0;34m()\u001b[0m\n\u001b[0;32m----> 1\u001b[0;31m \u001b[0mplot_model\u001b[0m\u001b[0;34m(\u001b[0m\u001b[0mmodel\u001b[0m\u001b[0;34m,\u001b[0m\u001b[0mto_file\u001b[0m\u001b[0;34m=\u001b[0m\u001b[0;34m'model.png'\u001b[0m\u001b[0;34m)\u001b[0m\u001b[0;34m\u001b[0m\u001b[0;34m\u001b[0m\u001b[0m\n\u001b[0m",
            "\u001b[0;31mNameError\u001b[0m: name 'plot_model' is not defined"
          ]
        }
      ]
    },
    {
      "cell_type": "code",
      "metadata": {
        "id": "hiUYq9HxQy5c",
        "colab_type": "code",
        "colab": {}
      },
      "source": [
        "X_test_processed, Y_test_cat = preprocess(X_test, Y_test)"
      ],
      "execution_count": 0,
      "outputs": []
    },
    {
      "cell_type": "code",
      "metadata": {
        "id": "ZnsbocrNQO8P",
        "colab_type": "code",
        "colab": {}
      },
      "source": [
        "model.compile(optimizer=\"sgd\", loss='categorical_crossentropy', metrics=['accuracy'])\n",
        "x_train = X_train_processed.reshape(X_train_processed.shape[0], image_vector_size) /255.\n",
        "x_test = X_test_processed.reshape(X_test_processed.shape[0], image_vector_size) /255."
      ],
      "execution_count": 0,
      "outputs": []
    },
    {
      "cell_type": "code",
      "metadata": {
        "id": "lnx1MgciQVMC",
        "colab_type": "code",
        "outputId": "bebd75b2-1cfd-44a6-c9aa-895ebcdb94fd",
        "colab": {
          "base_uri": "https://localhost:8080/",
          "height": 697
        }
      },
      "source": [
        "history = model.fit(x_train, Y_train_cat, batch_size=256, epochs=10, verbose=True, validation_split=.2,class_weight = class_weights)"
      ],
      "execution_count": 0,
      "outputs": [
        {
          "output_type": "stream",
          "text": [
            "WARNING:tensorflow:From /usr/local/lib/python3.6/dist-packages/tensorflow_core/python/ops/math_grad.py:1424: where (from tensorflow.python.ops.array_ops) is deprecated and will be removed in a future version.\n",
            "Instructions for updating:\n",
            "Use tf.where in 2.0, which has the same broadcast rule as np.where\n",
            "WARNING:tensorflow:From /usr/local/lib/python3.6/dist-packages/keras/backend/tensorflow_backend.py:1033: The name tf.assign_add is deprecated. Please use tf.compat.v1.assign_add instead.\n",
            "\n",
            "WARNING:tensorflow:From /usr/local/lib/python3.6/dist-packages/keras/backend/tensorflow_backend.py:1020: The name tf.assign is deprecated. Please use tf.compat.v1.assign instead.\n",
            "\n",
            "WARNING:tensorflow:From /usr/local/lib/python3.6/dist-packages/keras/backend/tensorflow_backend.py:3005: The name tf.Session is deprecated. Please use tf.compat.v1.Session instead.\n",
            "\n",
            "Train on 27839 samples, validate on 6960 samples\n",
            "Epoch 1/10\n",
            "WARNING:tensorflow:From /usr/local/lib/python3.6/dist-packages/keras/backend/tensorflow_backend.py:190: The name tf.get_default_session is deprecated. Please use tf.compat.v1.get_default_session instead.\n",
            "\n",
            "WARNING:tensorflow:From /usr/local/lib/python3.6/dist-packages/keras/backend/tensorflow_backend.py:197: The name tf.ConfigProto is deprecated. Please use tf.compat.v1.ConfigProto instead.\n",
            "\n",
            "WARNING:tensorflow:From /usr/local/lib/python3.6/dist-packages/keras/backend/tensorflow_backend.py:207: The name tf.global_variables is deprecated. Please use tf.compat.v1.global_variables instead.\n",
            "\n",
            "WARNING:tensorflow:From /usr/local/lib/python3.6/dist-packages/keras/backend/tensorflow_backend.py:216: The name tf.is_variable_initialized is deprecated. Please use tf.compat.v1.is_variable_initialized instead.\n",
            "\n",
            "WARNING:tensorflow:From /usr/local/lib/python3.6/dist-packages/keras/backend/tensorflow_backend.py:223: The name tf.variables_initializer is deprecated. Please use tf.compat.v1.variables_initializer instead.\n",
            "\n",
            "27839/27839 [==============================] - 1s 40us/step - loss: 3.7551 - acc: 0.0571 - val_loss: 3.6976 - val_acc: 0.0560\n",
            "Epoch 2/10\n",
            "27839/27839 [==============================] - 0s 16us/step - loss: 3.6489 - acc: 0.0571 - val_loss: 3.6162 - val_acc: 0.0560\n",
            "Epoch 3/10\n",
            "27839/27839 [==============================] - 0s 16us/step - loss: 3.5856 - acc: 0.0571 - val_loss: 3.5677 - val_acc: 0.0560\n",
            "Epoch 4/10\n",
            "27839/27839 [==============================] - 0s 16us/step - loss: 3.5477 - acc: 0.0571 - val_loss: 3.5383 - val_acc: 0.0560\n",
            "Epoch 5/10\n",
            "27839/27839 [==============================] - 0s 16us/step - loss: 3.5245 - acc: 0.0571 - val_loss: 3.5201 - val_acc: 0.0560\n",
            "Epoch 6/10\n",
            "27839/27839 [==============================] - 0s 16us/step - loss: 3.5098 - acc: 0.0571 - val_loss: 3.5085 - val_acc: 0.0560\n",
            "Epoch 7/10\n",
            "27839/27839 [==============================] - 0s 16us/step - loss: 3.5002 - acc: 0.0571 - val_loss: 3.5008 - val_acc: 0.0560\n",
            "Epoch 8/10\n",
            "27839/27839 [==============================] - 0s 16us/step - loss: 3.4938 - acc: 0.0571 - val_loss: 3.4956 - val_acc: 0.0560\n",
            "Epoch 9/10\n",
            "27839/27839 [==============================] - 0s 16us/step - loss: 3.4892 - acc: 0.0559 - val_loss: 3.4920 - val_acc: 0.0560\n",
            "Epoch 10/10\n",
            "27839/27839 [==============================] - 0s 16us/step - loss: 3.4860 - acc: 0.0545 - val_loss: 3.4895 - val_acc: 0.0560\n"
          ],
          "name": "stdout"
        }
      ]
    },
    {
      "cell_type": "code",
      "metadata": {
        "id": "3WikFwGOt_5j",
        "colab_type": "code",
        "outputId": "b7f8c871-54f5-4e4e-bad7-e1830484872b",
        "colab": {
          "base_uri": "https://localhost:8080/",
          "height": 346
        }
      },
      "source": [
        "loss, accuracy  = model.evaluate(x_test, Y_test_cat, verbose=False)\n",
        "plot_loss_accuracy(history)\n",
        "print(f'Test loss: {loss:.3}')\n",
        "print(f'Test accuracy: {accuracy:.3}')"
      ],
      "execution_count": 0,
      "outputs": [
        {
          "output_type": "stream",
          "text": [
            "Test loss: 3.47\n",
            "Test accuracy: 0.057\n"
          ],
          "name": "stdout"
        },
        {
          "output_type": "display_data",
          "data": {
            "text/plain": [
              "<Figure size 576x432 with 0 Axes>"
            ]
          },
          "metadata": {
            "tags": []
          }
        },
        {
          "output_type": "display_data",
          "data": {
            "image/png": "[encoded data removed]",
            "text/plain": [
              "<Figure size 432x288 with 1 Axes>"
            ]
          },
          "metadata": {
            "tags": []
          }
        }
      ]
    },
    {
      "cell_type": "code",
      "metadata": {
        "id": "DD6BTuULRnk-",
        "colab_type": "code",
        "outputId": "bb85280d-9f16-4a5d-9ea2-3ac17fccb132",
        "colab": {
          "base_uri": "https://localhost:8080/",
          "height": 221
        }
      },
      "source": [
        "def build_basic_model():\n",
        "  model = Sequential()\n",
        "\n",
        "  # The input layer requires the special input_shape parameter which should match\n",
        "  # the shape of our training data.\n",
        "  model.add(Dense(units=1024, activation='sigmoid', input_shape=(image_vector_size,)))\n",
        "  model.add(Dense(units=n_classes, activation='softmax'))\n",
        "  return model\n",
        "model = build_basic_model()\n",
        "model.summary()"
      ],
      "execution_count": 0,
      "outputs": [
        {
          "output_type": "stream",
          "text": [
            "Model: \"sequential_3\"\n",
            "_________________________________________________________________\n",
            "Layer (type)                 Output Shape              Param #   \n",
            "=================================================================\n",
            "dense_5 (Dense)              (None, 1024)              1049600   \n",
            "_________________________________________________________________\n",
            "dense_6 (Dense)              (None, 43)                44075     \n",
            "=================================================================\n",
            "Total params: 1,093,675\n",
            "Trainable params: 1,093,675\n",
            "Non-trainable params: 0\n",
            "_________________________________________________________________\n"
          ],
          "name": "stdout"
        }
      ]
    },
    {
      "cell_type": "code",
      "metadata": {
        "id": "Z2Kk9W60H-5E",
        "colab_type": "code",
        "outputId": "401601c3-1b15-47ec-b7e9-840519637e4e",
        "colab": {
          "base_uri": "https://localhost:8080/",
          "height": 165
        }
      },
      "source": [
        "plot_model(model,to_file='model.png')"
      ],
      "execution_count": 0,
      "outputs": [
        {
          "output_type": "error",
          "ename": "NameError",
          "evalue": "ignored",
          "traceback": [
            "\u001b[0;31m---------------------------------------------------------------------------\u001b[0m",
            "\u001b[0;31mNameError\u001b[0m                                 Traceback (most recent call last)",
            "\u001b[0;32m<ipython-input-21-2efa7b36c1c0>\u001b[0m in \u001b[0;36m<module>\u001b[0;34m()\u001b[0m\n\u001b[0;32m----> 1\u001b[0;31m \u001b[0mplot_model\u001b[0m\u001b[0;34m(\u001b[0m\u001b[0mmodel\u001b[0m\u001b[0;34m,\u001b[0m\u001b[0mto_file\u001b[0m\u001b[0;34m=\u001b[0m\u001b[0;34m'model.png'\u001b[0m\u001b[0;34m)\u001b[0m\u001b[0;34m\u001b[0m\u001b[0;34m\u001b[0m\u001b[0m\n\u001b[0m",
            "\u001b[0;31mNameError\u001b[0m: name 'plot_model' is not defined"
          ]
        }
      ]
    },
    {
      "cell_type": "code",
      "metadata": {
        "id": "ysDp5y0lRrib",
        "colab_type": "code",
        "colab": {}
      },
      "source": [
        "model.compile(optimizer=\"sgd\", loss='categorical_crossentropy', metrics=['accuracy'])"
      ],
      "execution_count": 0,
      "outputs": []
    },
    {
      "cell_type": "code",
      "metadata": {
        "id": "vhdZd65nRv7z",
        "colab_type": "code",
        "outputId": "a7c1b281-e986-4183-b0a8-019b0542310a",
        "colab": {
          "base_uri": "https://localhost:8080/",
          "height": 697
        }
      },
      "source": [
        "history = model.fit(x_train, Y_train_cat, batch_size=1, epochs=10, verbose=True, validation_split=.2,class_weight = class_weights)\n",
        "loss, accuracy  = model.evaluate(x_test, Y_test_cat, verbose=False)"
      ],
      "execution_count": 0,
      "outputs": [
        {
          "output_type": "stream",
          "text": [
            "WARNING:tensorflow:From /usr/local/lib/python3.6/dist-packages/tensorflow_core/python/ops/math_grad.py:1424: where (from tensorflow.python.ops.array_ops) is deprecated and will be removed in a future version.\n",
            "Instructions for updating:\n",
            "Use tf.where in 2.0, which has the same broadcast rule as np.where\n",
            "WARNING:tensorflow:From /usr/local/lib/python3.6/dist-packages/keras/backend/tensorflow_backend.py:1033: The name tf.assign_add is deprecated. Please use tf.compat.v1.assign_add instead.\n",
            "\n",
            "WARNING:tensorflow:From /usr/local/lib/python3.6/dist-packages/keras/backend/tensorflow_backend.py:1020: The name tf.assign is deprecated. Please use tf.compat.v1.assign instead.\n",
            "\n",
            "WARNING:tensorflow:From /usr/local/lib/python3.6/dist-packages/keras/backend/tensorflow_backend.py:3005: The name tf.Session is deprecated. Please use tf.compat.v1.Session instead.\n",
            "\n",
            "Train on 27839 samples, validate on 6960 samples\n",
            "Epoch 1/10\n",
            "WARNING:tensorflow:From /usr/local/lib/python3.6/dist-packages/keras/backend/tensorflow_backend.py:190: The name tf.get_default_session is deprecated. Please use tf.compat.v1.get_default_session instead.\n",
            "\n",
            "WARNING:tensorflow:From /usr/local/lib/python3.6/dist-packages/keras/backend/tensorflow_backend.py:197: The name tf.ConfigProto is deprecated. Please use tf.compat.v1.ConfigProto instead.\n",
            "\n",
            "WARNING:tensorflow:From /usr/local/lib/python3.6/dist-packages/keras/backend/tensorflow_backend.py:207: The name tf.global_variables is deprecated. Please use tf.compat.v1.global_variables instead.\n",
            "\n",
            "WARNING:tensorflow:From /usr/local/lib/python3.6/dist-packages/keras/backend/tensorflow_backend.py:216: The name tf.is_variable_initialized is deprecated. Please use tf.compat.v1.is_variable_initialized instead.\n",
            "\n",
            "WARNING:tensorflow:From /usr/local/lib/python3.6/dist-packages/keras/backend/tensorflow_backend.py:223: The name tf.variables_initializer is deprecated. Please use tf.compat.v1.variables_initializer instead.\n",
            "\n",
            "27839/27839 [==============================] - 238s 9ms/step - loss: 4.1604 - acc: 0.0428 - val_loss: 4.1462 - val_acc: 0.0216\n",
            "Epoch 2/10\n",
            "27839/27839 [==============================] - 238s 9ms/step - loss: 4.2032 - acc: 0.0405 - val_loss: 4.3083 - val_acc: 0.0384\n",
            "Epoch 3/10\n",
            "27839/27839 [==============================] - 241s 9ms/step - loss: 4.2581 - acc: 0.0418 - val_loss: 4.4775 - val_acc: 0.0384\n",
            "Epoch 4/10\n",
            "27839/27839 [==============================] - 236s 8ms/step - loss: 4.3224 - acc: 0.0408 - val_loss: 4.0953 - val_acc: 0.0289\n",
            "Epoch 5/10\n",
            "27839/27839 [==============================] - 230s 8ms/step - loss: 4.3764 - acc: 0.0409 - val_loss: 4.4801 - val_acc: 0.0345\n",
            "Epoch 6/10\n",
            "27839/27839 [==============================] - 234s 8ms/step - loss: 4.4451 - acc: 0.0405 - val_loss: 4.0531 - val_acc: 0.0384\n",
            "Epoch 7/10\n",
            "27839/27839 [==============================] - 234s 8ms/step - loss: 4.5335 - acc: 0.0372 - val_loss: 5.1357 - val_acc: 0.0546\n",
            "Epoch 8/10\n",
            "27839/27839 [==============================] - 237s 9ms/step - loss: 4.6259 - acc: 0.0372 - val_loss: 4.6813 - val_acc: 0.0216\n",
            "Epoch 9/10\n",
            "27839/27839 [==============================] - 240s 9ms/step - loss: 4.7384 - acc: 0.0378 - val_loss: 5.0491 - val_acc: 0.0560\n",
            "Epoch 10/10\n",
            "27839/27839 [==============================] - 247s 9ms/step - loss: 4.8839 - acc: 0.0365 - val_loss: 4.8891 - val_acc: 0.0142\n"
          ],
          "name": "stdout"
        }
      ]
    },
    {
      "cell_type": "code",
      "metadata": {
        "id": "xMrnNtO0S1Qa",
        "colab_type": "code",
        "colab": {}
      },
      "source": [
        "loss, accuracy  = model.evaluate(x_test, Y_test_cat, verbose=False)"
      ],
      "execution_count": 0,
      "outputs": []
    },
    {
      "cell_type": "code",
      "metadata": {
        "id": "tt3YhhwLSvwz",
        "colab_type": "code",
        "outputId": "a522aeb9-3f3c-4f78-e8ff-e852f8d89c10",
        "colab": {
          "base_uri": "https://localhost:8080/",
          "height": 346
        }
      },
      "source": [
        "plot_loss_accuracy(history)\n",
        "print(f'Test loss: {loss:.3}')\n",
        "print(f'Test accuracy: {accuracy:.3}')"
      ],
      "execution_count": 0,
      "outputs": [
        {
          "output_type": "stream",
          "text": [
            "Test loss: 4.87\n",
            "Test accuracy: 0.0166\n"
          ],
          "name": "stdout"
        },
        {
          "output_type": "display_data",
          "data": {
            "text/plain": [
              "<Figure size 576x432 with 0 Axes>"
            ]
          },
          "metadata": {
            "tags": []
          }
        },
        {
          "output_type": "display_data",
          "data": {
            "image/png": "[encoded data removed]",
            "text/plain": [
              "<Figure size 432x288 with 1 Axes>"
            ]
          },
          "metadata": {
            "tags": []
          }
        }
      ]
    },
    {
      "cell_type": "code",
      "metadata": {
        "id": "_tpISrU9uY_n",
        "colab_type": "code",
        "outputId": "1ec4708a-9b90-4d6a-ca08-01d890e63375",
        "colab": {
          "base_uri": "https://localhost:8080/",
          "height": 221
        }
      },
      "source": [
        "def build_basic_model():\n",
        "  model = Sequential()\n",
        "\n",
        "  # The input layer requires the special input_shape parameter which should match\n",
        "  # the shape of our training data.\n",
        "  model.add(Dense(units=1024, activation='relu', input_shape=(image_vector_size,)))\n",
        "  model.add(Dense(units=n_classes, activation='softmax'))\n",
        "  return model\n",
        "model = build_basic_model()\n",
        "model.summary()"
      ],
      "execution_count": 0,
      "outputs": [
        {
          "output_type": "stream",
          "text": [
            "Model: \"sequential_10\"\n",
            "_________________________________________________________________\n",
            "Layer (type)                 Output Shape              Param #   \n",
            "=================================================================\n",
            "dense_23 (Dense)             (None, 1024)              1049600   \n",
            "_________________________________________________________________\n",
            "dense_24 (Dense)             (None, 43)                44075     \n",
            "=================================================================\n",
            "Total params: 1,093,675\n",
            "Trainable params: 1,093,675\n",
            "Non-trainable params: 0\n",
            "_________________________________________________________________\n"
          ],
          "name": "stdout"
        }
      ]
    },
    {
      "cell_type": "code",
      "metadata": {
        "id": "0SAum8cXIOGG",
        "colab_type": "code",
        "outputId": "81480f01-9d82-4dc8-81f1-9e4d4dcaf7a6",
        "colab": {
          "base_uri": "https://localhost:8080/",
          "height": 272
        }
      },
      "source": [
        "plot_model(model,to_file='model.png')"
      ],
      "execution_count": 0,
      "outputs": [
        {
          "output_type": "execute_result",
          "data": {
            "image/png": "[encoded data removed]",
            "text/plain": [
              "<IPython.core.display.Image object>"
            ]
          },
          "metadata": {
            "tags": []
          },
          "execution_count": 58
        }
      ]
    },
    {
      "cell_type": "code",
      "metadata": {
        "id": "BZshH2jwuo9A",
        "colab_type": "code",
        "colab": {}
      },
      "source": [
        "model.compile(optimizer=\"sgd\", loss='categorical_crossentropy', metrics=['accuracy'])"
      ],
      "execution_count": 0,
      "outputs": []
    },
    {
      "cell_type": "code",
      "metadata": {
        "id": "Hkva46tRus2u",
        "colab_type": "code",
        "outputId": "5d96174d-a5a2-4dd7-8329-f16bc32c656b",
        "colab": {
          "base_uri": "https://localhost:8080/",
          "height": 1000
        }
      },
      "source": [
        "history = model.fit(x_train, Y_train_cat, batch_size=256, epochs=50, verbose=True, validation_split=.2,class_weight = weights)"
      ],
      "execution_count": 0,
      "outputs": [
        {
          "output_type": "stream",
          "text": [
            "Train on 27839 samples, validate on 6960 samples\n",
            "Epoch 1/50\n",
            "27839/27839 [==============================] - 5s 188us/step - loss: 6.6919 - acc: 0.0546 - val_loss: 6.5639 - val_acc: 0.0555\n",
            "Epoch 2/50\n",
            "27839/27839 [==============================] - 4s 145us/step - loss: 6.5393 - acc: 0.0551 - val_loss: 6.5117 - val_acc: 0.0555\n",
            "Epoch 3/50\n",
            "27839/27839 [==============================] - 4s 145us/step - loss: 6.5012 - acc: 0.0551 - val_loss: 6.4844 - val_acc: 0.0555\n",
            "Epoch 4/50\n",
            "27839/27839 [==============================] - 4s 146us/step - loss: 6.4789 - acc: 0.0551 - val_loss: 6.4666 - val_acc: 0.0555\n",
            "Epoch 5/50\n",
            "27839/27839 [==============================] - 4s 146us/step - loss: 6.4636 - acc: 0.0551 - val_loss: 6.4536 - val_acc: 0.0555\n",
            "Epoch 6/50\n",
            "27839/27839 [==============================] - 4s 150us/step - loss: 6.4521 - acc: 0.0551 - val_loss: 6.4437 - val_acc: 0.0555\n",
            "Epoch 7/50\n",
            "27839/27839 [==============================] - 4s 150us/step - loss: 6.4432 - acc: 0.0551 - val_loss: 6.4357 - val_acc: 0.0555\n",
            "Epoch 8/50\n",
            "27839/27839 [==============================] - 4s 147us/step - loss: 6.4359 - acc: 0.0551 - val_loss: 6.4293 - val_acc: 0.0555\n",
            "Epoch 9/50\n",
            "27839/27839 [==============================] - 4s 145us/step - loss: 6.4299 - acc: 0.0551 - val_loss: 6.4238 - val_acc: 0.0555\n",
            "Epoch 10/50\n",
            "27839/27839 [==============================] - 4s 144us/step - loss: 6.4248 - acc: 0.0551 - val_loss: 6.4192 - val_acc: 0.0555\n",
            "Epoch 11/50\n",
            "27839/27839 [==============================] - 4s 145us/step - loss: 6.4205 - acc: 0.0551 - val_loss: 6.4152 - val_acc: 0.0555\n",
            "Epoch 12/50\n",
            "27839/27839 [==============================] - 4s 144us/step - loss: 6.4167 - acc: 0.0551 - val_loss: 6.4118 - val_acc: 0.0555\n",
            "Epoch 13/50\n",
            "27839/27839 [==============================] - 4s 147us/step - loss: 6.4135 - acc: 0.0551 - val_loss: 6.4088 - val_acc: 0.0555\n",
            "Epoch 14/50\n",
            "27839/27839 [==============================] - 4s 144us/step - loss: 6.4107 - acc: 0.0551 - val_loss: 6.4062 - val_acc: 0.0555\n",
            "Epoch 15/50\n",
            "27839/27839 [==============================] - 4s 143us/step - loss: 6.4082 - acc: 0.0551 - val_loss: 6.4039 - val_acc: 0.0555\n",
            "Epoch 16/50\n",
            "27839/27839 [==============================] - 4s 144us/step - loss: 6.4061 - acc: 0.0551 - val_loss: 6.4019 - val_acc: 0.0555\n",
            "Epoch 17/50\n",
            "27839/27839 [==============================] - 4s 146us/step - loss: 6.4042 - acc: 0.0551 - val_loss: 6.4002 - val_acc: 0.0555\n",
            "Epoch 18/50\n",
            "27839/27839 [==============================] - 4s 145us/step - loss: 6.4025 - acc: 0.0551 - val_loss: 6.3986 - val_acc: 0.0555\n",
            "Epoch 19/50\n",
            "27839/27839 [==============================] - 4s 145us/step - loss: 6.4010 - acc: 0.0551 - val_loss: 6.3972 - val_acc: 0.0555\n",
            "Epoch 20/50\n",
            "27839/27839 [==============================] - 4s 144us/step - loss: 6.3997 - acc: 0.0551 - val_loss: 6.3961 - val_acc: 0.0555\n",
            "Epoch 21/50\n",
            "27839/27839 [==============================] - 4s 148us/step - loss: 6.3986 - acc: 0.0551 - val_loss: 6.3950 - val_acc: 0.0555\n",
            "Epoch 22/50\n",
            "27839/27839 [==============================] - 4s 150us/step - loss: 6.3976 - acc: 0.0551 - val_loss: 6.3941 - val_acc: 0.0555\n",
            "Epoch 23/50\n",
            "27839/27839 [==============================] - 4s 146us/step - loss: 6.3967 - acc: 0.0551 - val_loss: 6.3933 - val_acc: 0.0555\n",
            "Epoch 24/50\n",
            "27839/27839 [==============================] - 4s 146us/step - loss: 6.3960 - acc: 0.0551 - val_loss: 6.3926 - val_acc: 0.0555\n",
            "Epoch 25/50\n",
            "27839/27839 [==============================] - 4s 144us/step - loss: 6.3954 - acc: 0.0551 - val_loss: 6.3921 - val_acc: 0.0555\n",
            "Epoch 26/50\n",
            "27839/27839 [==============================] - 4s 145us/step - loss: 6.3948 - acc: 0.0551 - val_loss: 6.3916 - val_acc: 0.0555\n",
            "Epoch 27/50\n",
            "27839/27839 [==============================] - 4s 145us/step - loss: 6.3943 - acc: 0.0551 - val_loss: 6.3911 - val_acc: 0.0555\n",
            "Epoch 28/50\n",
            "27839/27839 [==============================] - 4s 145us/step - loss: 6.3939 - acc: 0.0551 - val_loss: 6.3908 - val_acc: 0.0555\n",
            "Epoch 29/50\n",
            "27839/27839 [==============================] - 4s 145us/step - loss: 6.3935 - acc: 0.0551 - val_loss: 6.3904 - val_acc: 0.0555\n",
            "Epoch 30/50\n",
            "27839/27839 [==============================] - 4s 146us/step - loss: 6.3932 - acc: 0.0551 - val_loss: 6.3901 - val_acc: 0.0555\n",
            "Epoch 31/50\n",
            "27839/27839 [==============================] - 4s 144us/step - loss: 6.3930 - acc: 0.0551 - val_loss: 6.3899 - val_acc: 0.0555\n",
            "Epoch 32/50\n",
            "27839/27839 [==============================] - 4s 146us/step - loss: 6.3927 - acc: 0.0551 - val_loss: 6.3898 - val_acc: 0.0555\n",
            "Epoch 33/50\n",
            "27839/27839 [==============================] - 4s 145us/step - loss: 6.3926 - acc: 0.0551 - val_loss: 6.3896 - val_acc: 0.0555\n",
            "Epoch 34/50\n",
            "27839/27839 [==============================] - 4s 146us/step - loss: 6.3924 - acc: 0.0551 - val_loss: 6.3895 - val_acc: 0.0555\n",
            "Epoch 35/50\n",
            "27839/27839 [==============================] - 4s 145us/step - loss: 6.3923 - acc: 0.0551 - val_loss: 6.3894 - val_acc: 0.0555\n",
            "Epoch 36/50\n",
            "27839/27839 [==============================] - 4s 153us/step - loss: 6.3922 - acc: 0.0551 - val_loss: 6.3893 - val_acc: 0.0555\n",
            "Epoch 37/50\n",
            "27839/27839 [==============================] - 4s 154us/step - loss: 6.3921 - acc: 0.0551 - val_loss: 6.3892 - val_acc: 0.0555\n",
            "Epoch 38/50\n",
            "27839/27839 [==============================] - 4s 148us/step - loss: 6.3920 - acc: 0.0551 - val_loss: 6.3892 - val_acc: 0.0555\n",
            "Epoch 39/50\n",
            "27839/27839 [==============================] - 4s 145us/step - loss: 6.3919 - acc: 0.0551 - val_loss: 6.3891 - val_acc: 0.0555\n",
            "Epoch 40/50\n",
            "27839/27839 [==============================] - 4s 144us/step - loss: 6.3919 - acc: 0.0551 - val_loss: 6.3891 - val_acc: 0.0555\n",
            "Epoch 41/50\n",
            "27839/27839 [==============================] - 4s 146us/step - loss: 6.3919 - acc: 0.0551 - val_loss: 6.3890 - val_acc: 0.0555\n",
            "Epoch 42/50\n",
            "27839/27839 [==============================] - 4s 147us/step - loss: 6.3918 - acc: 0.0551 - val_loss: 6.3890 - val_acc: 0.0555\n",
            "Epoch 43/50\n",
            "27839/27839 [==============================] - 4s 148us/step - loss: 6.3918 - acc: 0.0551 - val_loss: 6.3890 - val_acc: 0.0555\n",
            "Epoch 44/50\n",
            "27839/27839 [==============================] - 4s 145us/step - loss: 6.3918 - acc: 0.0551 - val_loss: 6.3890 - val_acc: 0.0555\n",
            "Epoch 45/50\n",
            "27839/27839 [==============================] - 4s 149us/step - loss: 6.3918 - acc: 0.0551 - val_loss: 6.3889 - val_acc: 0.0555\n",
            "Epoch 46/50\n",
            "27839/27839 [==============================] - 4s 148us/step - loss: 6.3917 - acc: 0.0551 - val_loss: 6.3889 - val_acc: 0.0555\n",
            "Epoch 47/50\n",
            "27839/27839 [==============================] - 4s 148us/step - loss: 6.3917 - acc: 0.0551 - val_loss: 6.3889 - val_acc: 0.0555\n",
            "Epoch 48/50\n",
            "27839/27839 [==============================] - 4s 146us/step - loss: 6.3917 - acc: 0.0551 - val_loss: 6.3889 - val_acc: 0.0555\n",
            "Epoch 49/50\n",
            "27839/27839 [==============================] - 4s 147us/step - loss: 6.3917 - acc: 0.0549 - val_loss: 6.3889 - val_acc: 0.0552\n",
            "Epoch 50/50\n",
            "27839/27839 [==============================] - 4s 153us/step - loss: 6.3917 - acc: 0.0539 - val_loss: 6.3888 - val_acc: 0.0507\n"
          ],
          "name": "stdout"
        }
      ]
    },
    {
      "cell_type": "code",
      "metadata": {
        "id": "SgASTErJu7wZ",
        "colab_type": "code",
        "colab": {}
      },
      "source": [
        "loss, accuracy  = model.evaluate(x_test, Y_test_cat, verbose=False)"
      ],
      "execution_count": 0,
      "outputs": []
    },
    {
      "cell_type": "code",
      "metadata": {
        "id": "TvDTTWGFu8TO",
        "colab_type": "code",
        "outputId": "aa0902de-face-463f-cbfb-b321e4732f1e",
        "colab": {
          "base_uri": "https://localhost:8080/",
          "height": 346
        }
      },
      "source": [
        "plot_loss_accuracy(history)\n",
        "print(f'Test loss: {loss:.3}')\n",
        "print(f'Test accuracy: {accuracy:.3}')"
      ],
      "execution_count": 0,
      "outputs": [
        {
          "output_type": "stream",
          "text": [
            "Test loss: 6.39\n",
            "Test accuracy: 0.0549\n"
          ],
          "name": "stdout"
        },
        {
          "output_type": "display_data",
          "data": {
            "text/plain": [
              "<Figure size 576x432 with 0 Axes>"
            ]
          },
          "metadata": {
            "tags": []
          }
        },
        {
          "output_type": "display_data",
          "data": {
            "image/png": "[encoded data removed]",
            "text/plain": [
              "<Figure size 432x288 with 1 Axes>"
            ]
          },
          "metadata": {
            "tags": []
          }
        }
      ]
    },
    {
      "cell_type": "code",
      "metadata": {
        "id": "70caZgLId8-5",
        "colab_type": "code",
        "colab": {}
      },
      "source": [
        "\n",
        "def build_basic_model():\n",
        "  model = Sequential()\n",
        "\n",
        "  model.add(Dense(units=1024, activation='relu', input_shape=(image_vector_size,)))\n",
        "  model.add(Dense(units=256, activation='relu'))\n",
        "  model.add(Dense(units=n_classes, activation='softmax'))\n",
        "  return model\n"
      ],
      "execution_count": 0,
      "outputs": []
    },
    {
      "cell_type": "code",
      "metadata": {
        "id": "W0FWWFp9PPNz",
        "colab_type": "code",
        "outputId": "9a8d83fe-eec4-4d81-9842-c0d2129fa821",
        "colab": {
          "base_uri": "https://localhost:8080/",
          "height": 255
        }
      },
      "source": [
        "model = build_basic_model()\n",
        "model.summary()\n"
      ],
      "execution_count": 0,
      "outputs": [
        {
          "output_type": "stream",
          "text": [
            "Model: \"sequential_11\"\n",
            "_________________________________________________________________\n",
            "Layer (type)                 Output Shape              Param #   \n",
            "=================================================================\n",
            "dense_25 (Dense)             (None, 1024)              1049600   \n",
            "_________________________________________________________________\n",
            "dense_26 (Dense)             (None, 256)               262400    \n",
            "_________________________________________________________________\n",
            "dense_27 (Dense)             (None, 43)                11051     \n",
            "=================================================================\n",
            "Total params: 1,323,051\n",
            "Trainable params: 1,323,051\n",
            "Non-trainable params: 0\n",
            "_________________________________________________________________\n"
          ],
          "name": "stdout"
        }
      ]
    },
    {
      "cell_type": "code",
      "metadata": {
        "id": "s-pG-FpoIjET",
        "colab_type": "code",
        "outputId": "1101f2a1-6212-4aec-e108-b5e6ffec5730",
        "colab": {
          "base_uri": "https://localhost:8080/",
          "height": 369
        }
      },
      "source": [
        "plot_model(model,to_file='model.png')"
      ],
      "execution_count": 0,
      "outputs": [
        {
          "output_type": "execute_result",
          "data": {
            "image/png": "[encoded data removed]",
            "text/plain": [
              "<IPython.core.display.Image object>"
            ]
          },
          "metadata": {
            "tags": []
          },
          "execution_count": 62
        }
      ]
    },
    {
      "cell_type": "code",
      "metadata": {
        "id": "HldPKp6YPZM8",
        "colab_type": "code",
        "colab": {}
      },
      "source": [
        "model.compile(optimizer=\"adam\", loss='categorical_crossentropy', metrics=['accuracy'])\n"
      ],
      "execution_count": 0,
      "outputs": []
    },
    {
      "cell_type": "code",
      "metadata": {
        "id": "TFOxYqWxSIv8",
        "colab_type": "code",
        "outputId": "f1f2a643-b53f-4136-9330-60e447182a21",
        "colab": {
          "base_uri": "https://localhost:8080/",
          "height": 1000
        }
      },
      "source": [
        "history = model.fit(x_train, Y_train_cat, batch_size=256, epochs=50, verbose=True, validation_split=.2,class_weight = weights)"
      ],
      "execution_count": 0,
      "outputs": [
        {
          "output_type": "stream",
          "text": [
            "Train on 27839 samples, validate on 6960 samples\n",
            "Epoch 1/50\n",
            "27839/27839 [==============================] - 7s 254us/step - loss: 3.4838 - acc: 0.0742 - val_loss: 3.3671 - val_acc: 0.1009\n",
            "Epoch 2/50\n",
            "27839/27839 [==============================] - 6s 216us/step - loss: 3.1934 - acc: 0.1405 - val_loss: 2.9855 - val_acc: 0.1989\n",
            "Epoch 3/50\n",
            "27839/27839 [==============================] - 6s 212us/step - loss: 2.6731 - acc: 0.2544 - val_loss: 2.3920 - val_acc: 0.3240\n",
            "Epoch 4/50\n",
            "27839/27839 [==============================] - 6s 210us/step - loss: 2.1779 - acc: 0.3684 - val_loss: 2.0105 - val_acc: 0.4162\n",
            "Epoch 5/50\n",
            "27839/27839 [==============================] - 6s 213us/step - loss: 1.8600 - acc: 0.4457 - val_loss: 1.7522 - val_acc: 0.4846\n",
            "Epoch 6/50\n",
            "27839/27839 [==============================] - 6s 214us/step - loss: 1.6441 - acc: 0.5062 - val_loss: 1.5759 - val_acc: 0.5445\n",
            "Epoch 7/50\n",
            "27839/27839 [==============================] - 6s 219us/step - loss: 1.4785 - acc: 0.5595 - val_loss: 1.4381 - val_acc: 0.5717\n",
            "Epoch 8/50\n",
            "27839/27839 [==============================] - 6s 219us/step - loss: 1.3494 - acc: 0.6005 - val_loss: 1.3133 - val_acc: 0.6128\n",
            "Epoch 9/50\n",
            "27839/27839 [==============================] - 6s 212us/step - loss: 1.2407 - acc: 0.6340 - val_loss: 1.2205 - val_acc: 0.6489\n",
            "Epoch 10/50\n",
            "27839/27839 [==============================] - 6s 210us/step - loss: 1.1399 - acc: 0.6684 - val_loss: 1.1315 - val_acc: 0.6787\n",
            "Epoch 11/50\n",
            "27839/27839 [==============================] - 6s 211us/step - loss: 1.0683 - acc: 0.6893 - val_loss: 1.0589 - val_acc: 0.7049\n",
            "Epoch 12/50\n",
            "27839/27839 [==============================] - 6s 212us/step - loss: 0.9993 - acc: 0.7136 - val_loss: 1.0156 - val_acc: 0.7149\n",
            "Epoch 13/50\n",
            "27839/27839 [==============================] - 6s 213us/step - loss: 0.9456 - acc: 0.7295 - val_loss: 0.9741 - val_acc: 0.7274\n",
            "Epoch 14/50\n",
            "27839/27839 [==============================] - 6s 212us/step - loss: 0.8901 - acc: 0.7485 - val_loss: 0.9129 - val_acc: 0.7560\n",
            "Epoch 15/50\n",
            "27839/27839 [==============================] - 6s 212us/step - loss: 0.8472 - acc: 0.7610 - val_loss: 0.8617 - val_acc: 0.7718\n",
            "Epoch 16/50\n",
            "27839/27839 [==============================] - 6s 212us/step - loss: 0.8127 - acc: 0.7715 - val_loss: 0.8352 - val_acc: 0.7761\n",
            "Epoch 17/50\n",
            "27839/27839 [==============================] - 6s 215us/step - loss: 0.7825 - acc: 0.7793 - val_loss: 0.8057 - val_acc: 0.7849\n",
            "Epoch 18/50\n",
            "27839/27839 [==============================] - 6s 220us/step - loss: 0.7452 - acc: 0.7928 - val_loss: 0.7779 - val_acc: 0.7915\n",
            "Epoch 19/50\n",
            "27839/27839 [==============================] - 6s 210us/step - loss: 0.7164 - acc: 0.8011 - val_loss: 0.7599 - val_acc: 0.7941\n",
            "Epoch 20/50\n",
            "27839/27839 [==============================] - 6s 210us/step - loss: 0.6961 - acc: 0.8083 - val_loss: 0.7137 - val_acc: 0.8093\n",
            "Epoch 21/50\n",
            "27839/27839 [==============================] - 6s 213us/step - loss: 0.6665 - acc: 0.8172 - val_loss: 0.7008 - val_acc: 0.8181\n",
            "Epoch 22/50\n",
            "27839/27839 [==============================] - 6s 214us/step - loss: 0.6451 - acc: 0.8239 - val_loss: 0.6699 - val_acc: 0.8254\n",
            "Epoch 23/50\n",
            "27839/27839 [==============================] - 6s 214us/step - loss: 0.6198 - acc: 0.8320 - val_loss: 0.6491 - val_acc: 0.8279\n",
            "Epoch 24/50\n",
            "27839/27839 [==============================] - 6s 211us/step - loss: 0.6018 - acc: 0.8390 - val_loss: 0.6641 - val_acc: 0.8273\n",
            "Epoch 25/50\n",
            "27839/27839 [==============================] - 6s 213us/step - loss: 0.5896 - acc: 0.8421 - val_loss: 0.6233 - val_acc: 0.8372\n",
            "Epoch 26/50\n",
            "27839/27839 [==============================] - 6s 211us/step - loss: 0.5647 - acc: 0.8515 - val_loss: 0.6034 - val_acc: 0.8420\n",
            "Epoch 27/50\n",
            "27839/27839 [==============================] - 6s 222us/step - loss: 0.5500 - acc: 0.8562 - val_loss: 0.5862 - val_acc: 0.8496\n",
            "Epoch 28/50\n",
            "27839/27839 [==============================] - 6s 228us/step - loss: 0.5349 - acc: 0.8578 - val_loss: 0.5721 - val_acc: 0.8529\n",
            "Epoch 29/50\n",
            "27839/27839 [==============================] - 6s 216us/step - loss: 0.5209 - acc: 0.8619 - val_loss: 0.5638 - val_acc: 0.8516\n",
            "Epoch 30/50\n",
            "27839/27839 [==============================] - 6s 218us/step - loss: 0.5087 - acc: 0.8692 - val_loss: 0.5441 - val_acc: 0.8616\n",
            "Epoch 31/50\n",
            "27839/27839 [==============================] - 6s 214us/step - loss: 0.4942 - acc: 0.8714 - val_loss: 0.5387 - val_acc: 0.8615\n",
            "Epoch 32/50\n",
            "27839/27839 [==============================] - 6s 214us/step - loss: 0.4812 - acc: 0.8749 - val_loss: 0.5349 - val_acc: 0.8618\n",
            "Epoch 33/50\n",
            "27839/27839 [==============================] - 6s 211us/step - loss: 0.4688 - acc: 0.8791 - val_loss: 0.5065 - val_acc: 0.8718\n",
            "Epoch 34/50\n",
            "27839/27839 [==============================] - 6s 211us/step - loss: 0.4575 - acc: 0.8833 - val_loss: 0.5041 - val_acc: 0.8682\n",
            "Epoch 35/50\n",
            "27839/27839 [==============================] - 6s 212us/step - loss: 0.4481 - acc: 0.8858 - val_loss: 0.4914 - val_acc: 0.8733\n",
            "Epoch 36/50\n",
            "27839/27839 [==============================] - 6s 215us/step - loss: 0.4374 - acc: 0.8877 - val_loss: 0.4804 - val_acc: 0.8809\n",
            "Epoch 37/50\n",
            "27839/27839 [==============================] - 6s 215us/step - loss: 0.4238 - acc: 0.8920 - val_loss: 0.4896 - val_acc: 0.8750\n",
            "Epoch 38/50\n",
            "27839/27839 [==============================] - 6s 218us/step - loss: 0.4190 - acc: 0.8953 - val_loss: 0.4626 - val_acc: 0.8845\n",
            "Epoch 39/50\n",
            "27839/27839 [==============================] - 6s 211us/step - loss: 0.4119 - acc: 0.8958 - val_loss: 0.4618 - val_acc: 0.8820\n",
            "Epoch 40/50\n",
            "27839/27839 [==============================] - 6s 208us/step - loss: 0.4026 - acc: 0.8977 - val_loss: 0.4487 - val_acc: 0.8921\n",
            "Epoch 41/50\n",
            "27839/27839 [==============================] - 6s 212us/step - loss: 0.3963 - acc: 0.8979 - val_loss: 0.4420 - val_acc: 0.8920\n",
            "Epoch 42/50\n",
            "27839/27839 [==============================] - 6s 215us/step - loss: 0.3891 - acc: 0.9015 - val_loss: 0.4612 - val_acc: 0.8779\n",
            "Epoch 43/50\n",
            "27839/27839 [==============================] - 6s 214us/step - loss: 0.3789 - acc: 0.9043 - val_loss: 0.4329 - val_acc: 0.8891\n",
            "Epoch 44/50\n",
            "27839/27839 [==============================] - 6s 212us/step - loss: 0.3716 - acc: 0.9057 - val_loss: 0.4343 - val_acc: 0.8932\n",
            "Epoch 45/50\n",
            "27839/27839 [==============================] - 6s 217us/step - loss: 0.3636 - acc: 0.9097 - val_loss: 0.4235 - val_acc: 0.8931\n",
            "Epoch 46/50\n",
            "27839/27839 [==============================] - 6s 217us/step - loss: 0.3591 - acc: 0.9093 - val_loss: 0.4152 - val_acc: 0.8987\n",
            "Epoch 47/50\n",
            "27839/27839 [==============================] - 6s 222us/step - loss: 0.3526 - acc: 0.9119 - val_loss: 0.4227 - val_acc: 0.8937\n",
            "Epoch 48/50\n",
            "27839/27839 [==============================] - 6s 227us/step - loss: 0.3502 - acc: 0.9121 - val_loss: 0.4037 - val_acc: 0.9000\n",
            "Epoch 49/50\n",
            "27839/27839 [==============================] - 6s 220us/step - loss: 0.3372 - acc: 0.9163 - val_loss: 0.4006 - val_acc: 0.8963\n",
            "Epoch 50/50\n",
            "27839/27839 [==============================] - 6s 217us/step - loss: 0.3284 - acc: 0.9178 - val_loss: 0.3942 - val_acc: 0.9014\n"
          ],
          "name": "stdout"
        }
      ]
    },
    {
      "cell_type": "code",
      "metadata": {
        "id": "Fm-It7HVViLs",
        "colab_type": "code",
        "colab": {}
      },
      "source": [
        "loss, accuracy  = model.evaluate(x_test, Y_test_cat, verbose=False)"
      ],
      "execution_count": 0,
      "outputs": []
    },
    {
      "cell_type": "code",
      "metadata": {
        "id": "E6ANIKq5U_iH",
        "colab_type": "code",
        "outputId": "341e2cdc-427f-417f-b331-5fd7964eb4b2",
        "colab": {
          "base_uri": "https://localhost:8080/",
          "height": 346
        }
      },
      "source": [
        "plot_loss_accuracy(history)\n",
        "print(f'Test loss: {loss:.3}')\n",
        "print(f'Test accuracy: {accuracy:.3}')"
      ],
      "execution_count": 0,
      "outputs": [
        {
          "output_type": "stream",
          "text": [
            "Test loss: 0.83\n",
            "Test accuracy: 0.81\n"
          ],
          "name": "stdout"
        },
        {
          "output_type": "display_data",
          "data": {
            "text/plain": [
              "<Figure size 576x432 with 0 Axes>"
            ]
          },
          "metadata": {
            "tags": []
          }
        },
        {
          "output_type": "display_data",
          "data": {
            "image/png": "[encoded data removed]",
            "text/plain": [
              "<Figure size 432x288 with 1 Axes>"
            ]
          },
          "metadata": {
            "tags": []
          }
        }
      ]
    },
    {
      "cell_type": "code",
      "metadata": {
        "id": "ip0G_jUwVGHt",
        "colab_type": "code",
        "colab": {}
      },
      "source": [
        "def build_basic_model():\n",
        "  model = Sequential()\n",
        "\n",
        "  # The input layer requires the special input_shape parameter which should match\n",
        "  # the shape of our training data.\n",
        "  model.add(Dense(units=1024, activation='relu', input_shape=(image_vector_size,)))\n",
        "  model.add(Dense(units=256, activation='relu'))\n",
        "  model.add(Dense(units=n_classes, activation='softmax'))\n",
        "  return model"
      ],
      "execution_count": 0,
      "outputs": []
    },
    {
      "cell_type": "code",
      "metadata": {
        "id": "yBGVwqvjVSFF",
        "colab_type": "code",
        "outputId": "d97562ae-0e36-485e-a197-ab5af155885c",
        "colab": {
          "base_uri": "https://localhost:8080/",
          "height": 255
        }
      },
      "source": [
        "model = build_basic_model()\n",
        "model.summary()"
      ],
      "execution_count": 0,
      "outputs": [
        {
          "output_type": "stream",
          "text": [
            "Model: \"sequential_12\"\n",
            "_________________________________________________________________\n",
            "Layer (type)                 Output Shape              Param #   \n",
            "=================================================================\n",
            "dense_28 (Dense)             (None, 1024)              1049600   \n",
            "_________________________________________________________________\n",
            "dense_29 (Dense)             (None, 256)               262400    \n",
            "_________________________________________________________________\n",
            "dense_30 (Dense)             (None, 43)                11051     \n",
            "=================================================================\n",
            "Total params: 1,323,051\n",
            "Trainable params: 1,323,051\n",
            "Non-trainable params: 0\n",
            "_________________________________________________________________\n"
          ],
          "name": "stdout"
        }
      ]
    },
    {
      "cell_type": "code",
      "metadata": {
        "id": "Lya8uBkbI0RH",
        "colab_type": "code",
        "outputId": "75aa1fea-0bba-4484-8b55-3e0666b490be",
        "colab": {
          "base_uri": "https://localhost:8080/",
          "height": 369
        }
      },
      "source": [
        "plot_model(model,to_file='model.png')"
      ],
      "execution_count": 0,
      "outputs": [
        {
          "output_type": "execute_result",
          "data": {
            "image/png": "[encoded data removed]",
            "text/plain": [
              "<IPython.core.display.Image object>"
            ]
          },
          "metadata": {
            "tags": []
          },
          "execution_count": 65
        }
      ]
    },
    {
      "cell_type": "code",
      "metadata": {
        "id": "vGA8Bk0qVU4L",
        "colab_type": "code",
        "colab": {}
      },
      "source": [
        "model.compile(optimizer=Adam(lr=0.0001), loss='categorical_crossentropy', metrics=['accuracy'])"
      ],
      "execution_count": 0,
      "outputs": []
    },
    {
      "cell_type": "code",
      "metadata": {
        "id": "ZQQKv5fBVVmr",
        "colab_type": "code",
        "outputId": "a87f49d9-092c-46c3-96f9-5feaad6a5ca8",
        "colab": {
          "base_uri": "https://localhost:8080/",
          "height": 1000
        }
      },
      "source": [
        "history = model.fit(x_train, Y_train_cat, batch_size=256, epochs=150, verbose=True, validation_split=.2,class_weight = weights)"
      ],
      "execution_count": 0,
      "outputs": [
        {
          "output_type": "stream",
          "text": [
            "Train on 27839 samples, validate on 6960 samples\n",
            "Epoch 1/150\n",
            "27839/27839 [==============================] - 7s 268us/step - loss: 3.6755 - acc: 0.0576 - val_loss: 3.5166 - val_acc: 0.0586\n",
            "Epoch 2/150\n",
            "27839/27839 [==============================] - 6s 198us/step - loss: 3.4832 - acc: 0.0609 - val_loss: 3.4697 - val_acc: 0.0731\n",
            "Epoch 3/150\n",
            "27839/27839 [==============================] - 6s 201us/step - loss: 3.4516 - acc: 0.0733 - val_loss: 3.4363 - val_acc: 0.0968\n",
            "Epoch 4/150\n",
            "27839/27839 [==============================] - 6s 204us/step - loss: 3.4078 - acc: 0.1045 - val_loss: 3.3872 - val_acc: 0.1214\n",
            "Epoch 5/150\n",
            "27839/27839 [==============================] - 6s 202us/step - loss: 3.3548 - acc: 0.1207 - val_loss: 3.3358 - val_acc: 0.1180\n",
            "Epoch 6/150\n",
            "27839/27839 [==============================] - 6s 200us/step - loss: 3.3010 - acc: 0.1241 - val_loss: 3.2851 - val_acc: 0.1267\n",
            "Epoch 7/150\n",
            "27839/27839 [==============================] - 6s 201us/step - loss: 3.2480 - acc: 0.1311 - val_loss: 3.2337 - val_acc: 0.1318\n",
            "Epoch 8/150\n",
            "27839/27839 [==============================] - 6s 200us/step - loss: 3.1951 - acc: 0.1366 - val_loss: 3.1800 - val_acc: 0.1421\n",
            "Epoch 9/150\n",
            "27839/27839 [==============================] - 6s 210us/step - loss: 3.1393 - acc: 0.1493 - val_loss: 3.1243 - val_acc: 0.1595\n",
            "Epoch 10/150\n",
            "27839/27839 [==============================] - 6s 208us/step - loss: 3.0804 - acc: 0.1678 - val_loss: 3.0622 - val_acc: 0.1822\n",
            "Epoch 11/150\n",
            "27839/27839 [==============================] - 6s 205us/step - loss: 3.0161 - acc: 0.1912 - val_loss: 2.9952 - val_acc: 0.2001\n",
            "Epoch 12/150\n",
            "27839/27839 [==============================] - 6s 201us/step - loss: 2.9474 - acc: 0.2047 - val_loss: 2.9265 - val_acc: 0.2108\n",
            "Epoch 13/150\n",
            "27839/27839 [==============================] - 6s 203us/step - loss: 2.8757 - acc: 0.2201 - val_loss: 2.8514 - val_acc: 0.2227\n",
            "Epoch 14/150\n",
            "27839/27839 [==============================] - 6s 202us/step - loss: 2.8004 - acc: 0.2327 - val_loss: 2.7751 - val_acc: 0.2404\n",
            "Epoch 15/150\n",
            "27839/27839 [==============================] - 6s 203us/step - loss: 2.7255 - acc: 0.2457 - val_loss: 2.7015 - val_acc: 0.2483\n",
            "Epoch 16/150\n",
            "27839/27839 [==============================] - 6s 202us/step - loss: 2.6539 - acc: 0.2588 - val_loss: 2.6306 - val_acc: 0.2649\n",
            "Epoch 17/150\n",
            "27839/27839 [==============================] - 6s 203us/step - loss: 2.5851 - acc: 0.2720 - val_loss: 2.5663 - val_acc: 0.2721\n",
            "Epoch 18/150\n",
            "27839/27839 [==============================] - 6s 199us/step - loss: 2.5207 - acc: 0.2861 - val_loss: 2.5028 - val_acc: 0.2871\n",
            "Epoch 19/150\n",
            "27839/27839 [==============================] - 6s 198us/step - loss: 2.4578 - acc: 0.3019 - val_loss: 2.4441 - val_acc: 0.3029\n",
            "Epoch 20/150\n",
            "27839/27839 [==============================] - 6s 204us/step - loss: 2.3993 - acc: 0.3208 - val_loss: 2.3857 - val_acc: 0.3180\n",
            "Epoch 21/150\n",
            "27839/27839 [==============================] - 6s 201us/step - loss: 2.3424 - acc: 0.3344 - val_loss: 2.3298 - val_acc: 0.3460\n",
            "Epoch 22/150\n",
            "27839/27839 [==============================] - 6s 200us/step - loss: 2.2882 - acc: 0.3543 - val_loss: 2.2780 - val_acc: 0.3547\n",
            "Epoch 23/150\n",
            "27839/27839 [==============================] - 6s 199us/step - loss: 2.2366 - acc: 0.3682 - val_loss: 2.2272 - val_acc: 0.3720\n",
            "Epoch 24/150\n",
            "27839/27839 [==============================] - 6s 199us/step - loss: 2.1867 - acc: 0.3817 - val_loss: 2.1790 - val_acc: 0.3865\n",
            "Epoch 25/150\n",
            "27839/27839 [==============================] - 6s 199us/step - loss: 2.1397 - acc: 0.3925 - val_loss: 2.1350 - val_acc: 0.3955\n",
            "Epoch 26/150\n",
            "27839/27839 [==============================] - 6s 200us/step - loss: 2.0942 - acc: 0.4049 - val_loss: 2.0876 - val_acc: 0.4092\n",
            "Epoch 27/150\n",
            "27839/27839 [==============================] - 6s 201us/step - loss: 2.0514 - acc: 0.4140 - val_loss: 2.0473 - val_acc: 0.4164\n",
            "Epoch 28/150\n",
            "27839/27839 [==============================] - 6s 203us/step - loss: 2.0106 - acc: 0.4223 - val_loss: 2.0090 - val_acc: 0.4328\n",
            "Epoch 29/150\n",
            "27839/27839 [==============================] - 6s 203us/step - loss: 1.9713 - acc: 0.4339 - val_loss: 1.9699 - val_acc: 0.4378\n",
            "Epoch 30/150\n",
            "27839/27839 [==============================] - 6s 203us/step - loss: 1.9340 - acc: 0.4424 - val_loss: 1.9322 - val_acc: 0.4481\n",
            "Epoch 31/150\n",
            "27839/27839 [==============================] - 6s 203us/step - loss: 1.8979 - acc: 0.4500 - val_loss: 1.8976 - val_acc: 0.4529\n",
            "Epoch 32/150\n",
            "27839/27839 [==============================] - 6s 199us/step - loss: 1.8640 - acc: 0.4596 - val_loss: 1.8665 - val_acc: 0.4573\n",
            "Epoch 33/150\n",
            "27839/27839 [==============================] - 6s 201us/step - loss: 1.8310 - acc: 0.4677 - val_loss: 1.8313 - val_acc: 0.4665\n",
            "Epoch 34/150\n",
            "27839/27839 [==============================] - 6s 199us/step - loss: 1.8002 - acc: 0.4742 - val_loss: 1.8040 - val_acc: 0.4749\n",
            "Epoch 35/150\n",
            "27839/27839 [==============================] - 6s 200us/step - loss: 1.7697 - acc: 0.4821 - val_loss: 1.7724 - val_acc: 0.4835\n",
            "Epoch 36/150\n",
            "27839/27839 [==============================] - 6s 199us/step - loss: 1.7401 - acc: 0.4901 - val_loss: 1.7469 - val_acc: 0.4862\n",
            "Epoch 37/150\n",
            "27839/27839 [==============================] - 6s 199us/step - loss: 1.7120 - acc: 0.4983 - val_loss: 1.7182 - val_acc: 0.5043\n",
            "Epoch 38/150\n",
            "27839/27839 [==============================] - 6s 200us/step - loss: 1.6853 - acc: 0.5064 - val_loss: 1.6908 - val_acc: 0.5049\n",
            "Epoch 39/150\n",
            "27839/27839 [==============================] - 6s 201us/step - loss: 1.6584 - acc: 0.5142 - val_loss: 1.6682 - val_acc: 0.5093\n",
            "Epoch 40/150\n",
            "27839/27839 [==============================] - 6s 200us/step - loss: 1.6328 - acc: 0.5196 - val_loss: 1.6430 - val_acc: 0.5159\n",
            "Epoch 41/150\n",
            "27839/27839 [==============================] - 6s 206us/step - loss: 1.6079 - acc: 0.5293 - val_loss: 1.6173 - val_acc: 0.5332\n",
            "Epoch 42/150\n",
            "27839/27839 [==============================] - 6s 206us/step - loss: 1.5837 - acc: 0.5355 - val_loss: 1.5935 - val_acc: 0.5343\n",
            "Epoch 43/150\n",
            "27839/27839 [==============================] - 6s 204us/step - loss: 1.5607 - acc: 0.5413 - val_loss: 1.5723 - val_acc: 0.5412\n",
            "Epoch 44/150\n",
            "27839/27839 [==============================] - 6s 203us/step - loss: 1.5378 - acc: 0.5494 - val_loss: 1.5503 - val_acc: 0.5478\n",
            "Epoch 45/150\n",
            "27839/27839 [==============================] - 6s 203us/step - loss: 1.5162 - acc: 0.5559 - val_loss: 1.5285 - val_acc: 0.5534\n",
            "Epoch 46/150\n",
            "27839/27839 [==============================] - 6s 203us/step - loss: 1.4951 - acc: 0.5629 - val_loss: 1.5075 - val_acc: 0.5595\n",
            "Epoch 47/150\n",
            "27839/27839 [==============================] - 6s 202us/step - loss: 1.4735 - acc: 0.5707 - val_loss: 1.4877 - val_acc: 0.5677\n",
            "Epoch 48/150\n",
            "27839/27839 [==============================] - 6s 207us/step - loss: 1.4528 - acc: 0.5757 - val_loss: 1.4697 - val_acc: 0.5782\n",
            "Epoch 49/150\n",
            "27839/27839 [==============================] - 6s 206us/step - loss: 1.4325 - acc: 0.5829 - val_loss: 1.4496 - val_acc: 0.5833\n",
            "Epoch 50/150\n",
            "27839/27839 [==============================] - 6s 203us/step - loss: 1.4132 - acc: 0.5882 - val_loss: 1.4294 - val_acc: 0.5886\n",
            "Epoch 51/150\n",
            "27839/27839 [==============================] - 6s 202us/step - loss: 1.3946 - acc: 0.5945 - val_loss: 1.4115 - val_acc: 0.5955\n",
            "Epoch 52/150\n",
            "27839/27839 [==============================] - 6s 206us/step - loss: 1.3765 - acc: 0.6022 - val_loss: 1.3918 - val_acc: 0.5990\n",
            "Epoch 53/150\n",
            "27839/27839 [==============================] - 6s 204us/step - loss: 1.3571 - acc: 0.6079 - val_loss: 1.3730 - val_acc: 0.6093\n",
            "Epoch 54/150\n",
            "27839/27839 [==============================] - 6s 205us/step - loss: 1.3386 - acc: 0.6151 - val_loss: 1.3590 - val_acc: 0.6101\n",
            "Epoch 55/150\n",
            "27839/27839 [==============================] - 6s 204us/step - loss: 1.3217 - acc: 0.6207 - val_loss: 1.3404 - val_acc: 0.6167\n",
            "Epoch 56/150\n",
            "27839/27839 [==============================] - 6s 201us/step - loss: 1.3046 - acc: 0.6260 - val_loss: 1.3233 - val_acc: 0.6227\n",
            "Epoch 57/150\n",
            "27839/27839 [==============================] - 6s 202us/step - loss: 1.2879 - acc: 0.6304 - val_loss: 1.3070 - val_acc: 0.6310\n",
            "Epoch 58/150\n",
            "27839/27839 [==============================] - 6s 205us/step - loss: 1.2719 - acc: 0.6378 - val_loss: 1.2886 - val_acc: 0.6368\n",
            "Epoch 59/150\n",
            "27839/27839 [==============================] - 6s 205us/step - loss: 1.2548 - acc: 0.6443 - val_loss: 1.2749 - val_acc: 0.6432\n",
            "Epoch 60/150\n",
            "27839/27839 [==============================] - 6s 201us/step - loss: 1.2393 - acc: 0.6475 - val_loss: 1.2609 - val_acc: 0.6432\n",
            "Epoch 61/150\n",
            "27839/27839 [==============================] - 6s 203us/step - loss: 1.2241 - acc: 0.6528 - val_loss: 1.2494 - val_acc: 0.6520\n",
            "Epoch 62/150\n",
            "27839/27839 [==============================] - 6s 207us/step - loss: 1.2096 - acc: 0.6577 - val_loss: 1.2288 - val_acc: 0.6585\n",
            "Epoch 63/150\n",
            "27839/27839 [==============================] - 6s 207us/step - loss: 1.1939 - acc: 0.6623 - val_loss: 1.2166 - val_acc: 0.6580\n",
            "Epoch 64/150\n",
            "27839/27839 [==============================] - 6s 203us/step - loss: 1.1795 - acc: 0.6684 - val_loss: 1.2009 - val_acc: 0.6688\n",
            "Epoch 65/150\n",
            "27839/27839 [==============================] - 6s 201us/step - loss: 1.1649 - acc: 0.6727 - val_loss: 1.1899 - val_acc: 0.6694\n",
            "Epoch 66/150\n",
            "27839/27839 [==============================] - 6s 201us/step - loss: 1.1518 - acc: 0.6780 - val_loss: 1.1732 - val_acc: 0.6703\n",
            "Epoch 67/150\n",
            "27839/27839 [==============================] - 6s 201us/step - loss: 1.1375 - acc: 0.6824 - val_loss: 1.1601 - val_acc: 0.6810\n",
            "Epoch 68/150\n",
            "27839/27839 [==============================] - 6s 201us/step - loss: 1.1243 - acc: 0.6867 - val_loss: 1.1470 - val_acc: 0.6848\n",
            "Epoch 69/150\n",
            "27839/27839 [==============================] - 6s 203us/step - loss: 1.1115 - acc: 0.6901 - val_loss: 1.1364 - val_acc: 0.6885\n",
            "Epoch 70/150\n",
            "27839/27839 [==============================] - 6s 202us/step - loss: 1.0985 - acc: 0.6966 - val_loss: 1.1246 - val_acc: 0.6953\n",
            "Epoch 71/150\n",
            "27839/27839 [==============================] - 6s 199us/step - loss: 1.0854 - acc: 0.6976 - val_loss: 1.1166 - val_acc: 0.6931\n",
            "Epoch 72/150\n",
            "27839/27839 [==============================] - 6s 201us/step - loss: 1.0743 - acc: 0.7019 - val_loss: 1.1045 - val_acc: 0.6994\n",
            "Epoch 73/150\n",
            "27839/27839 [==============================] - 6s 201us/step - loss: 1.0625 - acc: 0.7067 - val_loss: 1.0872 - val_acc: 0.7059\n",
            "Epoch 74/150\n",
            "27839/27839 [==============================] - 6s 203us/step - loss: 1.0511 - acc: 0.7099 - val_loss: 1.0768 - val_acc: 0.7042\n",
            "Epoch 75/150\n",
            "27839/27839 [==============================] - 6s 199us/step - loss: 1.0387 - acc: 0.7134 - val_loss: 1.0649 - val_acc: 0.7103\n",
            "Epoch 76/150\n",
            "27839/27839 [==============================] - 6s 199us/step - loss: 1.0285 - acc: 0.7164 - val_loss: 1.0545 - val_acc: 0.7118\n",
            "Epoch 77/150\n",
            "27839/27839 [==============================] - 6s 201us/step - loss: 1.0160 - acc: 0.7206 - val_loss: 1.0431 - val_acc: 0.7193\n",
            "Epoch 78/150\n",
            "27839/27839 [==============================] - 6s 205us/step - loss: 1.0055 - acc: 0.7230 - val_loss: 1.0328 - val_acc: 0.7204\n",
            "Epoch 79/150\n",
            "27839/27839 [==============================] - 6s 203us/step - loss: 0.9948 - acc: 0.7256 - val_loss: 1.0229 - val_acc: 0.7247\n",
            "Epoch 80/150\n",
            "27839/27839 [==============================] - 6s 199us/step - loss: 0.9849 - acc: 0.7320 - val_loss: 1.0140 - val_acc: 0.7293\n",
            "Epoch 81/150\n",
            "27839/27839 [==============================] - 6s 203us/step - loss: 0.9758 - acc: 0.7320 - val_loss: 1.0049 - val_acc: 0.7305\n",
            "Epoch 82/150\n",
            "27839/27839 [==============================] - 6s 205us/step - loss: 0.9651 - acc: 0.7381 - val_loss: 0.9918 - val_acc: 0.7346\n",
            "Epoch 83/150\n",
            "27839/27839 [==============================] - 6s 202us/step - loss: 0.9552 - acc: 0.7401 - val_loss: 0.9836 - val_acc: 0.7359\n",
            "Epoch 84/150\n",
            "27839/27839 [==============================] - 6s 203us/step - loss: 0.9460 - acc: 0.7417 - val_loss: 0.9731 - val_acc: 0.7409\n",
            "Epoch 85/150\n",
            "27839/27839 [==============================] - 6s 200us/step - loss: 0.9367 - acc: 0.7451 - val_loss: 0.9668 - val_acc: 0.7408\n",
            "Epoch 86/150\n",
            "27839/27839 [==============================] - 6s 200us/step - loss: 0.9275 - acc: 0.7486 - val_loss: 0.9572 - val_acc: 0.7484\n",
            "Epoch 87/150\n",
            "27839/27839 [==============================] - 6s 202us/step - loss: 0.9192 - acc: 0.7520 - val_loss: 0.9537 - val_acc: 0.7435\n",
            "Epoch 88/150\n",
            "27839/27839 [==============================] - 6s 200us/step - loss: 0.9106 - acc: 0.7553 - val_loss: 0.9400 - val_acc: 0.7516\n",
            "Epoch 89/150\n",
            "27839/27839 [==============================] - 6s 203us/step - loss: 0.9011 - acc: 0.7560 - val_loss: 0.9288 - val_acc: 0.7542\n",
            "Epoch 90/150\n",
            "27839/27839 [==============================] - 6s 200us/step - loss: 0.8919 - acc: 0.7583 - val_loss: 0.9224 - val_acc: 0.7557\n",
            "Epoch 91/150\n",
            "27839/27839 [==============================] - 6s 201us/step - loss: 0.8840 - acc: 0.7604 - val_loss: 0.9151 - val_acc: 0.7603\n",
            "Epoch 92/150\n",
            "27839/27839 [==============================] - 6s 201us/step - loss: 0.8768 - acc: 0.7639 - val_loss: 0.9088 - val_acc: 0.7609\n",
            "Epoch 93/150\n",
            "27839/27839 [==============================] - 6s 203us/step - loss: 0.8678 - acc: 0.7652 - val_loss: 0.9005 - val_acc: 0.7622\n",
            "Epoch 94/150\n",
            "27839/27839 [==============================] - 6s 206us/step - loss: 0.8610 - acc: 0.7681 - val_loss: 0.8922 - val_acc: 0.7651\n",
            "Epoch 95/150\n",
            "27839/27839 [==============================] - 6s 208us/step - loss: 0.8519 - acc: 0.7717 - val_loss: 0.8840 - val_acc: 0.7674\n",
            "Epoch 96/150\n",
            "27839/27839 [==============================] - 6s 202us/step - loss: 0.8447 - acc: 0.7734 - val_loss: 0.8789 - val_acc: 0.7693\n",
            "Epoch 97/150\n",
            "27839/27839 [==============================] - 6s 202us/step - loss: 0.8383 - acc: 0.7745 - val_loss: 0.8694 - val_acc: 0.7727\n",
            "Epoch 98/150\n",
            "27839/27839 [==============================] - 6s 201us/step - loss: 0.8293 - acc: 0.7780 - val_loss: 0.8613 - val_acc: 0.7766\n",
            "Epoch 99/150\n",
            "27839/27839 [==============================] - 6s 202us/step - loss: 0.8227 - acc: 0.7807 - val_loss: 0.8546 - val_acc: 0.7780\n",
            "Epoch 100/150\n",
            "27839/27839 [==============================] - 6s 202us/step - loss: 0.8162 - acc: 0.7814 - val_loss: 0.8486 - val_acc: 0.7795\n",
            "Epoch 101/150\n",
            "27839/27839 [==============================] - 6s 199us/step - loss: 0.8093 - acc: 0.7827 - val_loss: 0.8401 - val_acc: 0.7819\n",
            "Epoch 102/150\n",
            "27839/27839 [==============================] - 6s 204us/step - loss: 0.8016 - acc: 0.7846 - val_loss: 0.8346 - val_acc: 0.7810\n",
            "Epoch 103/150\n",
            "27839/27839 [==============================] - 6s 201us/step - loss: 0.7952 - acc: 0.7879 - val_loss: 0.8273 - val_acc: 0.7872\n",
            "Epoch 104/150\n",
            "27839/27839 [==============================] - 6s 203us/step - loss: 0.7883 - acc: 0.7904 - val_loss: 0.8237 - val_acc: 0.7869\n",
            "Epoch 105/150\n",
            "27839/27839 [==============================] - 6s 205us/step - loss: 0.7818 - acc: 0.7929 - val_loss: 0.8150 - val_acc: 0.7874\n",
            "Epoch 106/150\n",
            "27839/27839 [==============================] - 6s 201us/step - loss: 0.7754 - acc: 0.7940 - val_loss: 0.8085 - val_acc: 0.7928\n",
            "Epoch 107/150\n",
            "27839/27839 [==============================] - 6s 200us/step - loss: 0.7695 - acc: 0.7971 - val_loss: 0.8023 - val_acc: 0.7932\n",
            "Epoch 108/150\n",
            "27839/27839 [==============================] - 6s 198us/step - loss: 0.7632 - acc: 0.7968 - val_loss: 0.7990 - val_acc: 0.7930\n",
            "Epoch 109/150\n",
            "27839/27839 [==============================] - 6s 200us/step - loss: 0.7574 - acc: 0.7990 - val_loss: 0.7913 - val_acc: 0.7966\n",
            "Epoch 110/150\n",
            "27839/27839 [==============================] - 6s 198us/step - loss: 0.7511 - acc: 0.8025 - val_loss: 0.7840 - val_acc: 0.8004\n",
            "Epoch 111/150\n",
            "27839/27839 [==============================] - 6s 200us/step - loss: 0.7454 - acc: 0.8017 - val_loss: 0.7830 - val_acc: 0.7971\n",
            "Epoch 112/150\n",
            "27839/27839 [==============================] - 6s 199us/step - loss: 0.7390 - acc: 0.8060 - val_loss: 0.7734 - val_acc: 0.8043\n",
            "Epoch 113/150\n",
            "27839/27839 [==============================] - 6s 203us/step - loss: 0.7329 - acc: 0.8073 - val_loss: 0.7693 - val_acc: 0.8016\n",
            "Epoch 114/150\n",
            "27839/27839 [==============================] - 5s 197us/step - loss: 0.7280 - acc: 0.8086 - val_loss: 0.7617 - val_acc: 0.8046\n",
            "Epoch 115/150\n",
            "27839/27839 [==============================] - 6s 201us/step - loss: 0.7220 - acc: 0.8101 - val_loss: 0.7569 - val_acc: 0.8083\n",
            "Epoch 116/150\n",
            "27839/27839 [==============================] - 6s 210us/step - loss: 0.7166 - acc: 0.8116 - val_loss: 0.7532 - val_acc: 0.8103\n",
            "Epoch 117/150\n",
            "27839/27839 [==============================] - 6s 205us/step - loss: 0.7118 - acc: 0.8127 - val_loss: 0.7469 - val_acc: 0.8119\n",
            "Epoch 118/150\n",
            "27839/27839 [==============================] - 6s 199us/step - loss: 0.7073 - acc: 0.8155 - val_loss: 0.7435 - val_acc: 0.8068\n",
            "Epoch 119/150\n",
            "27839/27839 [==============================] - 6s 200us/step - loss: 0.7012 - acc: 0.8167 - val_loss: 0.7382 - val_acc: 0.8119\n",
            "Epoch 120/150\n",
            "27839/27839 [==============================] - 6s 199us/step - loss: 0.6959 - acc: 0.8173 - val_loss: 0.7300 - val_acc: 0.8159\n",
            "Epoch 121/150\n",
            "27839/27839 [==============================] - 6s 198us/step - loss: 0.6908 - acc: 0.8199 - val_loss: 0.7293 - val_acc: 0.8139\n",
            "Epoch 122/150\n",
            "27839/27839 [==============================] - 6s 201us/step - loss: 0.6858 - acc: 0.8206 - val_loss: 0.7224 - val_acc: 0.8142\n",
            "Epoch 123/150\n",
            "27839/27839 [==============================] - 6s 199us/step - loss: 0.6811 - acc: 0.8223 - val_loss: 0.7171 - val_acc: 0.8174\n",
            "Epoch 124/150\n",
            "27839/27839 [==============================] - 6s 199us/step - loss: 0.6764 - acc: 0.8239 - val_loss: 0.7139 - val_acc: 0.8187\n",
            "Epoch 125/150\n",
            "27839/27839 [==============================] - 6s 198us/step - loss: 0.6722 - acc: 0.8243 - val_loss: 0.7087 - val_acc: 0.8168\n",
            "Epoch 126/150\n",
            "27839/27839 [==============================] - 6s 199us/step - loss: 0.6667 - acc: 0.8262 - val_loss: 0.7029 - val_acc: 0.8207\n",
            "Epoch 127/150\n",
            "27839/27839 [==============================] - 6s 202us/step - loss: 0.6618 - acc: 0.8280 - val_loss: 0.7004 - val_acc: 0.8223\n",
            "Epoch 128/150\n",
            "27839/27839 [==============================] - 6s 199us/step - loss: 0.6579 - acc: 0.8287 - val_loss: 0.6941 - val_acc: 0.8191\n",
            "Epoch 129/150\n",
            "27839/27839 [==============================] - 6s 199us/step - loss: 0.6531 - acc: 0.8304 - val_loss: 0.6907 - val_acc: 0.8221\n",
            "Epoch 130/150\n",
            "27839/27839 [==============================] - 6s 198us/step - loss: 0.6495 - acc: 0.8314 - val_loss: 0.6847 - val_acc: 0.8246\n",
            "Epoch 131/150\n",
            "27839/27839 [==============================] - 6s 201us/step - loss: 0.6449 - acc: 0.8322 - val_loss: 0.6805 - val_acc: 0.8243\n",
            "Epoch 132/150\n",
            "27839/27839 [==============================] - 6s 200us/step - loss: 0.6406 - acc: 0.8331 - val_loss: 0.6769 - val_acc: 0.8269\n",
            "Epoch 133/150\n",
            "27839/27839 [==============================] - 6s 200us/step - loss: 0.6376 - acc: 0.8338 - val_loss: 0.6760 - val_acc: 0.8267\n",
            "Epoch 134/150\n",
            "27839/27839 [==============================] - 6s 201us/step - loss: 0.6326 - acc: 0.8377 - val_loss: 0.6681 - val_acc: 0.8307\n",
            "Epoch 135/150\n",
            "27839/27839 [==============================] - 6s 199us/step - loss: 0.6281 - acc: 0.8380 - val_loss: 0.6642 - val_acc: 0.8302\n",
            "Epoch 136/150\n",
            "27839/27839 [==============================] - 6s 200us/step - loss: 0.6252 - acc: 0.8388 - val_loss: 0.6646 - val_acc: 0.8292\n",
            "Epoch 137/150\n",
            "27839/27839 [==============================] - 6s 201us/step - loss: 0.6199 - acc: 0.8394 - val_loss: 0.6588 - val_acc: 0.8300\n",
            "Epoch 138/150\n",
            "27839/27839 [==============================] - 6s 201us/step - loss: 0.6158 - acc: 0.8403 - val_loss: 0.6570 - val_acc: 0.8318\n",
            "Epoch 139/150\n",
            "27839/27839 [==============================] - 6s 199us/step - loss: 0.6128 - acc: 0.8420 - val_loss: 0.6507 - val_acc: 0.8319\n",
            "Epoch 140/150\n",
            "27839/27839 [==============================] - 6s 199us/step - loss: 0.6089 - acc: 0.8426 - val_loss: 0.6469 - val_acc: 0.8351\n",
            "Epoch 141/150\n",
            "27839/27839 [==============================] - 6s 198us/step - loss: 0.6050 - acc: 0.8435 - val_loss: 0.6470 - val_acc: 0.8325\n",
            "Epoch 142/150\n",
            "27839/27839 [==============================] - 6s 199us/step - loss: 0.6015 - acc: 0.8441 - val_loss: 0.6433 - val_acc: 0.8342\n",
            "Epoch 143/150\n",
            "27839/27839 [==============================] - 6s 199us/step - loss: 0.5981 - acc: 0.8468 - val_loss: 0.6386 - val_acc: 0.8336\n",
            "Epoch 144/150\n",
            "27839/27839 [==============================] - 6s 198us/step - loss: 0.5944 - acc: 0.8473 - val_loss: 0.6345 - val_acc: 0.8368\n",
            "Epoch 145/150\n",
            "27839/27839 [==============================] - 6s 200us/step - loss: 0.5918 - acc: 0.8491 - val_loss: 0.6330 - val_acc: 0.8359\n",
            "Epoch 146/150\n",
            "27839/27839 [==============================] - 6s 199us/step - loss: 0.5869 - acc: 0.8503 - val_loss: 0.6275 - val_acc: 0.8388\n",
            "Epoch 147/150\n",
            "27839/27839 [==============================] - 6s 198us/step - loss: 0.5844 - acc: 0.8490 - val_loss: 0.6233 - val_acc: 0.8376\n",
            "Epoch 148/150\n",
            "27839/27839 [==============================] - 6s 202us/step - loss: 0.5814 - acc: 0.8504 - val_loss: 0.6208 - val_acc: 0.8401\n",
            "Epoch 149/150\n",
            "27839/27839 [==============================] - 6s 202us/step - loss: 0.5780 - acc: 0.8510 - val_loss: 0.6217 - val_acc: 0.8420\n",
            "Epoch 150/150\n",
            "27839/27839 [==============================] - 6s 199us/step - loss: 0.5747 - acc: 0.8520 - val_loss: 0.6149 - val_acc: 0.8414\n"
          ],
          "name": "stdout"
        }
      ]
    },
    {
      "cell_type": "code",
      "metadata": {
        "id": "a9U-WpViVfeG",
        "colab_type": "code",
        "colab": {}
      },
      "source": [
        "loss, accuracy  = model.evaluate(x_test, Y_test_cat, verbose=False)"
      ],
      "execution_count": 0,
      "outputs": []
    },
    {
      "cell_type": "code",
      "metadata": {
        "id": "SFajocPkVsXb",
        "colab_type": "code",
        "outputId": "334182ec-c744-4da8-e3e3-479c1c214385",
        "colab": {
          "base_uri": "https://localhost:8080/",
          "height": 346
        }
      },
      "source": [
        "plot_loss_accuracy(history)\n",
        "print(f'Test loss: {loss:.3}')\n",
        "print(f'Test accuracy: {accuracy:.3}')"
      ],
      "execution_count": 0,
      "outputs": [
        {
          "output_type": "stream",
          "text": [
            "Test loss: 0.937\n",
            "Test accuracy: 0.751\n"
          ],
          "name": "stdout"
        },
        {
          "output_type": "display_data",
          "data": {
            "text/plain": [
              "<Figure size 576x432 with 0 Axes>"
            ]
          },
          "metadata": {
            "tags": []
          }
        },
        {
          "output_type": "display_data",
          "data": {
            "image/png": "[encoded data removed]",
            "text/plain": [
              "<Figure size 432x288 with 1 Axes>"
            ]
          },
          "metadata": {
            "tags": []
          }
        }
      ]
    },
    {
      "cell_type": "code",
      "metadata": {
        "id": "cfuE6Hivyp5A",
        "colab_type": "code",
        "colab": {}
      },
      "source": [
        "from keras.layers import Dense, Dropout, BatchNormalization, Activation, Conv2D, MaxPooling2D, Flatten"
      ],
      "execution_count": 0,
      "outputs": []
    },
    {
      "cell_type": "code",
      "metadata": {
        "id": "Spcq8RQ3x0rz",
        "colab_type": "code",
        "outputId": "edc06b3a-c943-4e48-f0c3-8abfa205a7cf",
        "colab": {
          "base_uri": "https://localhost:8080/",
          "height": 289
        }
      },
      "source": [
        "def build_deeper_model():\n",
        "  model = Sequential()\n",
        "  model.add(Dense(units=1024, activation='relu', input_shape=(image_vector_size,)))\n",
        "  model.add(Dense(units=256, activation='relu'))\n",
        "  model.add(Dropout(0.3))\n",
        "  model.add(Dense(units=n_classes, activation='softmax'))\n",
        "  return model\n",
        "model = build_deeper_model()\n",
        "model.summary()"
      ],
      "execution_count": 0,
      "outputs": [
        {
          "output_type": "stream",
          "text": [
            "Model: \"sequential_14\"\n",
            "_________________________________________________________________\n",
            "Layer (type)                 Output Shape              Param #   \n",
            "=================================================================\n",
            "dense_34 (Dense)             (None, 1024)              1049600   \n",
            "_________________________________________________________________\n",
            "dense_35 (Dense)             (None, 256)               262400    \n",
            "_________________________________________________________________\n",
            "dropout_7 (Dropout)          (None, 256)               0         \n",
            "_________________________________________________________________\n",
            "dense_36 (Dense)             (None, 43)                11051     \n",
            "=================================================================\n",
            "Total params: 1,323,051\n",
            "Trainable params: 1,323,051\n",
            "Non-trainable params: 0\n",
            "_________________________________________________________________\n"
          ],
          "name": "stdout"
        }
      ]
    },
    {
      "cell_type": "code",
      "metadata": {
        "id": "qe_gvv19JJKM",
        "colab_type": "code",
        "outputId": "b50e47af-1925-4fd1-a401-c91467cc3706",
        "colab": {
          "base_uri": "https://localhost:8080/",
          "height": 466
        }
      },
      "source": [
        "plot_model(model,to_file='model.png')"
      ],
      "execution_count": 0,
      "outputs": [
        {
          "output_type": "execute_result",
          "data": {
            "image/png": "[encoded data removed]",
            "text/plain": [
              "<IPython.core.display.Image object>"
            ]
          },
          "metadata": {
            "tags": []
          },
          "execution_count": 69
        }
      ]
    },
    {
      "cell_type": "code",
      "metadata": {
        "id": "PkyFl5Gix_LQ",
        "colab_type": "code",
        "colab": {}
      },
      "source": [
        "model.compile(optimizer=\"adam\", loss='categorical_crossentropy', metrics=['accuracy'])"
      ],
      "execution_count": 0,
      "outputs": []
    },
    {
      "cell_type": "code",
      "metadata": {
        "id": "0f-j2EtuyK92",
        "colab_type": "code",
        "outputId": "359e8b2b-8e4f-4349-db83-9194c620e64e",
        "colab": {
          "base_uri": "https://localhost:8080/",
          "height": 1000
        }
      },
      "source": [
        "history = model.fit(x_train, Y_train_cat, batch_size=256, epochs=50, verbose=True, validation_split=.2,class_weight = weights)"
      ],
      "execution_count": 0,
      "outputs": [
        {
          "output_type": "stream",
          "text": [
            "Train on 27839 samples, validate on 6960 samples\n",
            "Epoch 1/50\n",
            "27839/27839 [==============================] - 8s 280us/step - loss: 3.4885 - acc: 0.0679 - val_loss: 3.3730 - val_acc: 0.1073\n",
            "Epoch 2/50\n",
            "27839/27839 [==============================] - 6s 230us/step - loss: 3.1868 - acc: 0.1334 - val_loss: 2.9981 - val_acc: 0.1858\n",
            "Epoch 3/50\n",
            "27839/27839 [==============================] - 6s 215us/step - loss: 2.7216 - acc: 0.2269 - val_loss: 2.4938 - val_acc: 0.2981\n",
            "Epoch 4/50\n",
            "27839/27839 [==============================] - 6s 214us/step - loss: 2.2845 - acc: 0.3348 - val_loss: 2.1293 - val_acc: 0.3872\n",
            "Epoch 5/50\n",
            "27839/27839 [==============================] - 6s 215us/step - loss: 1.9566 - acc: 0.4285 - val_loss: 1.8495 - val_acc: 0.4471\n",
            "Epoch 6/50\n",
            "27839/27839 [==============================] - 6s 215us/step - loss: 1.7117 - acc: 0.4921 - val_loss: 1.6256 - val_acc: 0.5237\n",
            "Epoch 7/50\n",
            "27839/27839 [==============================] - 6s 209us/step - loss: 1.5367 - acc: 0.5392 - val_loss: 1.4893 - val_acc: 0.5560\n",
            "Epoch 8/50\n",
            "27839/27839 [==============================] - 6s 212us/step - loss: 1.3931 - acc: 0.5837 - val_loss: 1.3488 - val_acc: 0.6043\n",
            "Epoch 9/50\n",
            "27839/27839 [==============================] - 6s 209us/step - loss: 1.2787 - acc: 0.6243 - val_loss: 1.2515 - val_acc: 0.6261\n",
            "Epoch 10/50\n",
            "27839/27839 [==============================] - 6s 212us/step - loss: 1.1864 - acc: 0.6523 - val_loss: 1.1689 - val_acc: 0.6759\n",
            "Epoch 11/50\n",
            "27839/27839 [==============================] - 6s 220us/step - loss: 1.0934 - acc: 0.6834 - val_loss: 1.0850 - val_acc: 0.6937\n",
            "Epoch 12/50\n",
            "27839/27839 [==============================] - 6s 220us/step - loss: 1.0200 - acc: 0.7042 - val_loss: 1.0172 - val_acc: 0.7144\n",
            "Epoch 13/50\n",
            "27839/27839 [==============================] - 6s 216us/step - loss: 0.9557 - acc: 0.7268 - val_loss: 0.9657 - val_acc: 0.7297\n",
            "Epoch 14/50\n",
            "27839/27839 [==============================] - 6s 215us/step - loss: 0.9010 - acc: 0.7461 - val_loss: 0.9213 - val_acc: 0.7445\n",
            "Epoch 15/50\n",
            "27839/27839 [==============================] - 6s 214us/step - loss: 0.8494 - acc: 0.7601 - val_loss: 0.8619 - val_acc: 0.7754\n",
            "Epoch 16/50\n",
            "27839/27839 [==============================] - 6s 215us/step - loss: 0.8082 - acc: 0.7756 - val_loss: 0.8267 - val_acc: 0.7830\n",
            "Epoch 17/50\n",
            "27839/27839 [==============================] - 6s 213us/step - loss: 0.7723 - acc: 0.7849 - val_loss: 0.7805 - val_acc: 0.7938\n",
            "Epoch 18/50\n",
            "27839/27839 [==============================] - 6s 217us/step - loss: 0.7328 - acc: 0.8015 - val_loss: 0.7748 - val_acc: 0.7924\n",
            "Epoch 19/50\n",
            "27839/27839 [==============================] - 6s 215us/step - loss: 0.7038 - acc: 0.8106 - val_loss: 0.7151 - val_acc: 0.8190\n",
            "Epoch 20/50\n",
            "27839/27839 [==============================] - 6s 210us/step - loss: 0.6724 - acc: 0.8194 - val_loss: 0.6912 - val_acc: 0.8244\n",
            "Epoch 21/50\n",
            "27839/27839 [==============================] - 6s 216us/step - loss: 0.6480 - acc: 0.8280 - val_loss: 0.6664 - val_acc: 0.8286\n",
            "Epoch 22/50\n",
            "27839/27839 [==============================] - 6s 223us/step - loss: 0.6243 - acc: 0.8346 - val_loss: 0.6534 - val_acc: 0.8302\n",
            "Epoch 23/50\n",
            "27839/27839 [==============================] - 6s 217us/step - loss: 0.6051 - acc: 0.8411 - val_loss: 0.6303 - val_acc: 0.8391\n",
            "Epoch 24/50\n",
            "27839/27839 [==============================] - 6s 213us/step - loss: 0.5847 - acc: 0.8476 - val_loss: 0.6204 - val_acc: 0.8415\n",
            "Epoch 25/50\n",
            "27839/27839 [==============================] - 6s 213us/step - loss: 0.5724 - acc: 0.8486 - val_loss: 0.5990 - val_acc: 0.8491\n",
            "Epoch 26/50\n",
            "27839/27839 [==============================] - 6s 215us/step - loss: 0.5486 - acc: 0.8573 - val_loss: 0.5934 - val_acc: 0.8486\n",
            "Epoch 27/50\n",
            "27839/27839 [==============================] - 6s 211us/step - loss: 0.5387 - acc: 0.8573 - val_loss: 0.5817 - val_acc: 0.8529\n",
            "Epoch 28/50\n",
            "27839/27839 [==============================] - 6s 213us/step - loss: 0.5241 - acc: 0.8646 - val_loss: 0.5533 - val_acc: 0.8609\n",
            "Epoch 29/50\n",
            "27839/27839 [==============================] - 6s 213us/step - loss: 0.5055 - acc: 0.8698 - val_loss: 0.5393 - val_acc: 0.8651\n",
            "Epoch 30/50\n",
            "27839/27839 [==============================] - 6s 211us/step - loss: 0.4937 - acc: 0.8711 - val_loss: 0.5328 - val_acc: 0.8608\n",
            "Epoch 31/50\n",
            "27839/27839 [==============================] - 6s 221us/step - loss: 0.4826 - acc: 0.8769 - val_loss: 0.5224 - val_acc: 0.8665\n",
            "Epoch 32/50\n",
            "27839/27839 [==============================] - 6s 232us/step - loss: 0.4692 - acc: 0.8805 - val_loss: 0.5052 - val_acc: 0.8731\n",
            "Epoch 33/50\n",
            "27839/27839 [==============================] - 6s 221us/step - loss: 0.4606 - acc: 0.8824 - val_loss: 0.5070 - val_acc: 0.8728\n",
            "Epoch 34/50\n",
            "27839/27839 [==============================] - 6s 209us/step - loss: 0.4530 - acc: 0.8839 - val_loss: 0.4954 - val_acc: 0.8713\n",
            "Epoch 35/50\n",
            "27839/27839 [==============================] - 6s 205us/step - loss: 0.4399 - acc: 0.8891 - val_loss: 0.4782 - val_acc: 0.8782\n",
            "Epoch 36/50\n",
            "27839/27839 [==============================] - 6s 209us/step - loss: 0.4233 - acc: 0.8927 - val_loss: 0.4724 - val_acc: 0.8800\n",
            "Epoch 37/50\n",
            "27839/27839 [==============================] - 6s 209us/step - loss: 0.4181 - acc: 0.8946 - val_loss: 0.4853 - val_acc: 0.8710\n",
            "Epoch 38/50\n",
            "27839/27839 [==============================] - 6s 208us/step - loss: 0.4123 - acc: 0.8949 - val_loss: 0.4584 - val_acc: 0.8829\n",
            "Epoch 39/50\n",
            "27839/27839 [==============================] - 6s 209us/step - loss: 0.4037 - acc: 0.8994 - val_loss: 0.4744 - val_acc: 0.8749\n",
            "Epoch 40/50\n",
            "27839/27839 [==============================] - 6s 213us/step - loss: 0.3920 - acc: 0.9016 - val_loss: 0.4528 - val_acc: 0.8856\n",
            "Epoch 41/50\n",
            "27839/27839 [==============================] - 6s 216us/step - loss: 0.3853 - acc: 0.9038 - val_loss: 0.4348 - val_acc: 0.8895\n",
            "Epoch 42/50\n",
            "27839/27839 [==============================] - 6s 225us/step - loss: 0.3792 - acc: 0.9046 - val_loss: 0.4435 - val_acc: 0.8862\n",
            "Epoch 43/50\n",
            "27839/27839 [==============================] - 6s 216us/step - loss: 0.3720 - acc: 0.9061 - val_loss: 0.4201 - val_acc: 0.8967\n",
            "Epoch 44/50\n",
            "27839/27839 [==============================] - 6s 209us/step - loss: 0.3630 - acc: 0.9101 - val_loss: 0.4159 - val_acc: 0.8986\n",
            "Epoch 45/50\n",
            "27839/27839 [==============================] - 6s 209us/step - loss: 0.3544 - acc: 0.9111 - val_loss: 0.4299 - val_acc: 0.8901\n",
            "Epoch 46/50\n",
            "27839/27839 [==============================] - 6s 213us/step - loss: 0.3493 - acc: 0.9121 - val_loss: 0.4043 - val_acc: 0.9004\n",
            "Epoch 47/50\n",
            "27839/27839 [==============================] - 6s 214us/step - loss: 0.3437 - acc: 0.9151 - val_loss: 0.4043 - val_acc: 0.8983\n",
            "Epoch 48/50\n",
            "27839/27839 [==============================] - 6s 215us/step - loss: 0.3343 - acc: 0.9174 - val_loss: 0.3858 - val_acc: 0.9027\n",
            "Epoch 49/50\n",
            "27839/27839 [==============================] - 6s 210us/step - loss: 0.3313 - acc: 0.9178 - val_loss: 0.4091 - val_acc: 0.8945\n",
            "Epoch 50/50\n",
            "27839/27839 [==============================] - 6s 210us/step - loss: 0.3227 - acc: 0.9201 - val_loss: 0.3745 - val_acc: 0.9072\n"
          ],
          "name": "stdout"
        }
      ]
    },
    {
      "cell_type": "code",
      "metadata": {
        "id": "if_cgxtfyMAe",
        "colab_type": "code",
        "outputId": "c847cadd-f4e5-4cd2-aafb-b6f901bbe4fa",
        "colab": {
          "base_uri": "https://localhost:8080/",
          "height": 346
        }
      },
      "source": [
        "loss, accuracy  = model.evaluate(x_test, Y_test_cat, verbose=False)\n",
        "plot_loss_accuracy(history)\n",
        "print(f'Test loss: {loss:.3}')\n",
        "print(f'Test accuracy: {accuracy:.3}')"
      ],
      "execution_count": 0,
      "outputs": [
        {
          "output_type": "stream",
          "text": [
            "Test loss: 0.827\n",
            "Test accuracy: 0.81\n"
          ],
          "name": "stdout"
        },
        {
          "output_type": "display_data",
          "data": {
            "text/plain": [
              "<Figure size 576x432 with 0 Axes>"
            ]
          },
          "metadata": {
            "tags": []
          }
        },
        {
          "output_type": "display_data",
          "data": {
            "image/png": "[encoded data removed]",
            "text/plain": [
              "<Figure size 432x288 with 1 Axes>"
            ]
          },
          "metadata": {
            "tags": []
          }
        }
      ]
    },
    {
      "cell_type": "code",
      "metadata": {
        "id": "euZV8TWhymUt",
        "colab_type": "code",
        "outputId": "7237087d-2d64-42ee-d4b7-9caf8d51b000",
        "colab": {
          "base_uri": "https://localhost:8080/",
          "height": 323
        }
      },
      "source": [
        "def build_deeper_model():\n",
        "  model = Sequential()\n",
        "  model.add(Dense(units=1024, activation='relu', input_shape=(image_vector_size,)))\n",
        "  model.add(Dense(units=256, activation='relu'))\n",
        "  model.add(Dropout(0.3))\n",
        "  model.add(Dense(units=128, activation='relu'))\n",
        "  model.add(Dense(units=n_classes, activation='softmax'))\n",
        "  return model\n",
        "model = build_deeper_model()\n",
        "model.summary()"
      ],
      "execution_count": 0,
      "outputs": [
        {
          "output_type": "stream",
          "text": [
            "Model: \"sequential_15\"\n",
            "_________________________________________________________________\n",
            "Layer (type)                 Output Shape              Param #   \n",
            "=================================================================\n",
            "dense_37 (Dense)             (None, 1024)              1049600   \n",
            "_________________________________________________________________\n",
            "dense_38 (Dense)             (None, 256)               262400    \n",
            "_________________________________________________________________\n",
            "dropout_8 (Dropout)          (None, 256)               0         \n",
            "_________________________________________________________________\n",
            "dense_39 (Dense)             (None, 128)               32896     \n",
            "_________________________________________________________________\n",
            "dense_40 (Dense)             (None, 43)                5547      \n",
            "=================================================================\n",
            "Total params: 1,350,443\n",
            "Trainable params: 1,350,443\n",
            "Non-trainable params: 0\n",
            "_________________________________________________________________\n"
          ],
          "name": "stdout"
        }
      ]
    },
    {
      "cell_type": "code",
      "metadata": {
        "id": "QsrOXcpHJgdN",
        "colab_type": "code",
        "outputId": "a6e20e14-a54c-4807-d66a-f0d8cc0e8b61",
        "colab": {
          "base_uri": "https://localhost:8080/",
          "height": 564
        }
      },
      "source": [
        "plot_model(model,to_file='model.png')"
      ],
      "execution_count": 0,
      "outputs": [
        {
          "output_type": "execute_result",
          "data": {
            "image/png": "[encoded data removed]",
            "text/plain": [
              "<IPython.core.display.Image object>"
            ]
          },
          "metadata": {
            "tags": []
          },
          "execution_count": 71
        }
      ]
    },
    {
      "cell_type": "code",
      "metadata": {
        "id": "1VRomA-5yrzb",
        "colab_type": "code",
        "colab": {}
      },
      "source": [
        "model.compile(optimizer=\"adam\", loss='categorical_crossentropy', metrics=['accuracy'])"
      ],
      "execution_count": 0,
      "outputs": []
    },
    {
      "cell_type": "code",
      "metadata": {
        "id": "vdZPUiRzyyz8",
        "colab_type": "code",
        "outputId": "c23e0cab-d281-4edc-a727-dbde28c79c1d",
        "colab": {
          "base_uri": "https://localhost:8080/",
          "height": 1000
        }
      },
      "source": [
        "history = model.fit(x_train, Y_train_cat, batch_size=256, epochs=50, verbose=True, validation_split=.2,class_weight = class_weights)"
      ],
      "execution_count": 0,
      "outputs": [
        {
          "output_type": "stream",
          "text": [
            "Train on 27839 samples, validate on 6960 samples\n",
            "Epoch 1/50\n",
            "27839/27839 [==============================] - 8s 290us/step - loss: 3.5093 - acc: 0.0653 - val_loss: 3.3776 - val_acc: 0.0973\n",
            "Epoch 2/50\n",
            "27839/27839 [==============================] - 7s 241us/step - loss: 3.1298 - acc: 0.1411 - val_loss: 2.7003 - val_acc: 0.2136\n",
            "Epoch 3/50\n",
            "27839/27839 [==============================] - 7s 245us/step - loss: 2.4581 - acc: 0.2613 - val_loss: 2.2103 - val_acc: 0.3269\n",
            "Epoch 4/50\n",
            "27839/27839 [==============================] - 7s 252us/step - loss: 2.0668 - acc: 0.3657 - val_loss: 1.8556 - val_acc: 0.4366\n",
            "Epoch 5/50\n",
            "27839/27839 [==============================] - 7s 248us/step - loss: 1.7648 - acc: 0.4505 - val_loss: 1.5751 - val_acc: 0.5292\n",
            "Epoch 6/50\n",
            "27839/27839 [==============================] - 7s 244us/step - loss: 1.5601 - acc: 0.5115 - val_loss: 1.4023 - val_acc: 0.5911\n",
            "Epoch 7/50\n",
            "27839/27839 [==============================] - 7s 247us/step - loss: 1.4092 - acc: 0.5593 - val_loss: 1.2470 - val_acc: 0.6306\n",
            "Epoch 8/50\n",
            "27839/27839 [==============================] - 7s 248us/step - loss: 1.2792 - acc: 0.6030 - val_loss: 1.1403 - val_acc: 0.6753\n",
            "Epoch 9/50\n",
            "27839/27839 [==============================] - 7s 245us/step - loss: 1.1897 - acc: 0.6341 - val_loss: 1.0701 - val_acc: 0.6872\n",
            "Epoch 10/50\n",
            "27839/27839 [==============================] - 7s 241us/step - loss: 1.1144 - acc: 0.6576 - val_loss: 1.0406 - val_acc: 0.6957\n",
            "Epoch 11/50\n",
            "27839/27839 [==============================] - 7s 253us/step - loss: 1.0419 - acc: 0.6806 - val_loss: 1.0025 - val_acc: 0.7027\n",
            "Epoch 12/50\n",
            "27839/27839 [==============================] - 7s 242us/step - loss: 0.9987 - acc: 0.6956 - val_loss: 0.9021 - val_acc: 0.7395\n",
            "Epoch 13/50\n",
            "27839/27839 [==============================] - 7s 251us/step - loss: 0.9334 - acc: 0.7177 - val_loss: 0.8498 - val_acc: 0.7569\n",
            "Epoch 14/50\n",
            "27839/27839 [==============================] - 7s 251us/step - loss: 0.8914 - acc: 0.7307 - val_loss: 0.8458 - val_acc: 0.7593\n",
            "Epoch 15/50\n",
            "27839/27839 [==============================] - 7s 256us/step - loss: 0.8611 - acc: 0.7380 - val_loss: 0.8046 - val_acc: 0.7697\n",
            "Epoch 16/50\n",
            "27839/27839 [==============================] - 7s 257us/step - loss: 0.8168 - acc: 0.7535 - val_loss: 0.7520 - val_acc: 0.7891\n",
            "Epoch 17/50\n",
            "27839/27839 [==============================] - 7s 258us/step - loss: 0.7972 - acc: 0.7586 - val_loss: 0.7510 - val_acc: 0.7819\n",
            "Epoch 18/50\n",
            "27839/27839 [==============================] - 7s 258us/step - loss: 0.7709 - acc: 0.7692 - val_loss: 0.7345 - val_acc: 0.7932\n",
            "Epoch 19/50\n",
            "27839/27839 [==============================] - 7s 263us/step - loss: 0.7346 - acc: 0.7795 - val_loss: 0.7156 - val_acc: 0.7984\n",
            "Epoch 20/50\n",
            "27839/27839 [==============================] - 7s 250us/step - loss: 0.7098 - acc: 0.7876 - val_loss: 0.6724 - val_acc: 0.8119\n",
            "Epoch 21/50\n",
            "27839/27839 [==============================] - 7s 256us/step - loss: 0.6819 - acc: 0.7965 - val_loss: 0.6477 - val_acc: 0.8165\n",
            "Epoch 22/50\n",
            "27839/27839 [==============================] - 7s 254us/step - loss: 0.6597 - acc: 0.8002 - val_loss: 0.6207 - val_acc: 0.8264\n",
            "Epoch 23/50\n",
            "27839/27839 [==============================] - 7s 251us/step - loss: 0.6363 - acc: 0.8099 - val_loss: 0.5721 - val_acc: 0.8408\n",
            "Epoch 24/50\n",
            "27839/27839 [==============================] - 7s 243us/step - loss: 0.6124 - acc: 0.8172 - val_loss: 0.5617 - val_acc: 0.8391\n",
            "Epoch 25/50\n",
            "27839/27839 [==============================] - 7s 250us/step - loss: 0.5984 - acc: 0.8209 - val_loss: 0.5757 - val_acc: 0.8326\n",
            "Epoch 26/50\n",
            "27839/27839 [==============================] - 7s 249us/step - loss: 0.5802 - acc: 0.8259 - val_loss: 0.6009 - val_acc: 0.8217\n",
            "Epoch 27/50\n",
            "27839/27839 [==============================] - 7s 248us/step - loss: 0.5608 - acc: 0.8341 - val_loss: 0.5252 - val_acc: 0.8470\n",
            "Epoch 28/50\n",
            "27839/27839 [==============================] - 7s 255us/step - loss: 0.5278 - acc: 0.8444 - val_loss: 0.4842 - val_acc: 0.8638\n",
            "Epoch 29/50\n",
            "27839/27839 [==============================] - 7s 265us/step - loss: 0.5218 - acc: 0.8459 - val_loss: 0.4941 - val_acc: 0.8578\n",
            "Epoch 30/50\n",
            "27839/27839 [==============================] - 7s 257us/step - loss: 0.5126 - acc: 0.8475 - val_loss: 0.4690 - val_acc: 0.8681\n",
            "Epoch 31/50\n",
            "27839/27839 [==============================] - 7s 249us/step - loss: 0.4921 - acc: 0.8538 - val_loss: 0.4488 - val_acc: 0.8697\n",
            "Epoch 32/50\n",
            "27839/27839 [==============================] - 7s 251us/step - loss: 0.4680 - acc: 0.8633 - val_loss: 0.4315 - val_acc: 0.8773\n",
            "Epoch 33/50\n",
            "27839/27839 [==============================] - 7s 247us/step - loss: 0.4554 - acc: 0.8657 - val_loss: 0.4366 - val_acc: 0.8792\n",
            "Epoch 34/50\n",
            "27839/27839 [==============================] - 7s 241us/step - loss: 0.4320 - acc: 0.8730 - val_loss: 0.4299 - val_acc: 0.8763\n",
            "Epoch 35/50\n",
            "27839/27839 [==============================] - 7s 240us/step - loss: 0.4341 - acc: 0.8724 - val_loss: 0.4109 - val_acc: 0.8856\n",
            "Epoch 36/50\n",
            "27839/27839 [==============================] - 7s 246us/step - loss: 0.4158 - acc: 0.8774 - val_loss: 0.3896 - val_acc: 0.8907\n",
            "Epoch 37/50\n",
            "27839/27839 [==============================] - 7s 238us/step - loss: 0.4143 - acc: 0.8774 - val_loss: 0.4189 - val_acc: 0.8756\n",
            "Epoch 38/50\n",
            "27839/27839 [==============================] - 7s 241us/step - loss: 0.3939 - acc: 0.8826 - val_loss: 0.3970 - val_acc: 0.8829\n",
            "Epoch 39/50\n",
            "27839/27839 [==============================] - 7s 244us/step - loss: 0.3841 - acc: 0.8876 - val_loss: 0.3717 - val_acc: 0.8922\n",
            "Epoch 40/50\n",
            "27839/27839 [==============================] - 7s 243us/step - loss: 0.3683 - acc: 0.8912 - val_loss: 0.3658 - val_acc: 0.9022\n",
            "Epoch 41/50\n",
            "27839/27839 [==============================] - 7s 241us/step - loss: 0.3548 - acc: 0.8961 - val_loss: 0.3539 - val_acc: 0.9011\n",
            "Epoch 42/50\n",
            "27839/27839 [==============================] - 7s 243us/step - loss: 0.3617 - acc: 0.8954 - val_loss: 0.3514 - val_acc: 0.8980\n",
            "Epoch 43/50\n",
            "27839/27839 [==============================] - 7s 243us/step - loss: 0.3458 - acc: 0.8995 - val_loss: 0.3775 - val_acc: 0.8895\n",
            "Epoch 44/50\n",
            "27839/27839 [==============================] - 7s 247us/step - loss: 0.3432 - acc: 0.8989 - val_loss: 0.3389 - val_acc: 0.9086\n",
            "Epoch 45/50\n",
            "27839/27839 [==============================] - 7s 243us/step - loss: 0.3230 - acc: 0.9053 - val_loss: 0.3120 - val_acc: 0.9126\n",
            "Epoch 46/50\n",
            "27839/27839 [==============================] - 7s 241us/step - loss: 0.3180 - acc: 0.9077 - val_loss: 0.3589 - val_acc: 0.8953\n",
            "Epoch 47/50\n",
            "27839/27839 [==============================] - 7s 245us/step - loss: 0.3057 - acc: 0.9124 - val_loss: 0.3039 - val_acc: 0.9162\n",
            "Epoch 48/50\n",
            "27839/27839 [==============================] - 7s 241us/step - loss: 0.3033 - acc: 0.9120 - val_loss: 0.3047 - val_acc: 0.9135\n",
            "Epoch 49/50\n",
            "27839/27839 [==============================] - 7s 247us/step - loss: 0.2936 - acc: 0.9138 - val_loss: 0.3099 - val_acc: 0.9105\n",
            "Epoch 50/50\n",
            "27839/27839 [==============================] - 7s 250us/step - loss: 0.2890 - acc: 0.9153 - val_loss: 0.2890 - val_acc: 0.9208\n"
          ],
          "name": "stdout"
        }
      ]
    },
    {
      "cell_type": "code",
      "metadata": {
        "id": "DV1kMOL8y02g",
        "colab_type": "code",
        "outputId": "abeb9956-44f8-4834-ecf2-b321fbb3227b",
        "colab": {
          "base_uri": "https://localhost:8080/",
          "height": 346
        }
      },
      "source": [
        "loss, accuracy  = model.evaluate(x_test, Y_test_cat, verbose=False)\n",
        "plot_loss_accuracy(history)\n",
        "print(f'Test loss: {loss:.3}')\n",
        "print(f'Test accuracy: {accuracy:.3}')"
      ],
      "execution_count": 0,
      "outputs": [
        {
          "output_type": "stream",
          "text": [
            "Test loss: 0.784\n",
            "Test accuracy: 0.826\n"
          ],
          "name": "stdout"
        },
        {
          "output_type": "display_data",
          "data": {
            "text/plain": [
              "<Figure size 576x432 with 0 Axes>"
            ]
          },
          "metadata": {
            "tags": []
          }
        },
        {
          "output_type": "display_data",
          "data": {
            "image/png": "[encoded data removed]",
            "text/plain": [
              "<Figure size 432x288 with 1 Axes>"
            ]
          },
          "metadata": {
            "tags": []
          }
        }
      ]
    },
    {
      "cell_type": "code",
      "metadata": {
        "id": "lMVn9dJJ_2p4",
        "colab_type": "code",
        "outputId": "222bf67c-0a61-48c5-d362-331409772173",
        "colab": {
          "base_uri": "https://localhost:8080/",
          "height": 357
        }
      },
      "source": [
        "def build_deeper_model():\n",
        "  model = Sequential()\n",
        "  model.add(Dense(units=1024, activation='relu', input_shape=(image_vector_size,)))\n",
        "  model.add(Dense(units=256, activation='relu'))\n",
        "  model.add(Dropout(0.3))\n",
        "  model.add(Dense(units=128, activation='relu'))\n",
        "  model.add(Dropout(0.3))\n",
        "  model.add(Dense(units=n_classes, activation='softmax'))\n",
        "  return model\n",
        "model = build_deeper_model()\n",
        "model.summary()"
      ],
      "execution_count": 0,
      "outputs": [
        {
          "output_type": "stream",
          "text": [
            "Model: \"sequential_7\"\n",
            "_________________________________________________________________\n",
            "Layer (type)                 Output Shape              Param #   \n",
            "=================================================================\n",
            "dense_15 (Dense)             (None, 1024)              1049600   \n",
            "_________________________________________________________________\n",
            "dense_16 (Dense)             (None, 256)               262400    \n",
            "_________________________________________________________________\n",
            "dropout_5 (Dropout)          (None, 256)               0         \n",
            "_________________________________________________________________\n",
            "dense_17 (Dense)             (None, 128)               32896     \n",
            "_________________________________________________________________\n",
            "dropout_6 (Dropout)          (None, 128)               0         \n",
            "_________________________________________________________________\n",
            "dense_18 (Dense)             (None, 43)                5547      \n",
            "=================================================================\n",
            "Total params: 1,350,443\n",
            "Trainable params: 1,350,443\n",
            "Non-trainable params: 0\n",
            "_________________________________________________________________\n"
          ],
          "name": "stdout"
        }
      ]
    },
    {
      "cell_type": "code",
      "metadata": {
        "id": "tBJ6-8_O_8Tt",
        "colab_type": "code",
        "colab": {}
      },
      "source": [
        "model.compile(optimizer=\"adam\", loss='categorical_crossentropy', metrics=['accuracy'])"
      ],
      "execution_count": 0,
      "outputs": []
    },
    {
      "cell_type": "code",
      "metadata": {
        "id": "Qhy8ta3a_809",
        "colab_type": "code",
        "outputId": "d9a1cde7-e51e-45fa-c8ad-36768f1b8104",
        "colab": {
          "base_uri": "https://localhost:8080/",
          "height": 1000
        }
      },
      "source": [
        "history = model.fit(x_train, Y_train_cat, batch_size=256, epochs=50, verbose=True, validation_split=.2,class_weight = class_weights)"
      ],
      "execution_count": 0,
      "outputs": [
        {
          "output_type": "stream",
          "text": [
            "Train on 27839 samples, validate on 6960 samples\n",
            "Epoch 1/50\n",
            "27839/27839 [==============================] - 8s 283us/step - loss: 3.5238 - acc: 0.0599 - val_loss: 3.3676 - val_acc: 0.0885\n",
            "Epoch 2/50\n",
            "27839/27839 [==============================] - 7s 260us/step - loss: 3.2051 - acc: 0.1167 - val_loss: 2.8439 - val_acc: 0.1886\n",
            "Epoch 3/50\n",
            "27839/27839 [==============================] - 7s 248us/step - loss: 2.6141 - acc: 0.2190 - val_loss: 2.3091 - val_acc: 0.2784\n",
            "Epoch 4/50\n",
            "27839/27839 [==============================] - 7s 251us/step - loss: 2.3039 - acc: 0.2793 - val_loss: 2.0719 - val_acc: 0.3365\n",
            "Epoch 5/50\n",
            "27839/27839 [==============================] - 7s 248us/step - loss: 2.1150 - acc: 0.3302 - val_loss: 1.8863 - val_acc: 0.4082\n",
            "Epoch 6/50\n",
            "27839/27839 [==============================] - 7s 249us/step - loss: 1.9378 - acc: 0.3809 - val_loss: 1.7822 - val_acc: 0.4411\n",
            "Epoch 7/50\n",
            "27839/27839 [==============================] - 7s 256us/step - loss: 1.7866 - acc: 0.4308 - val_loss: 1.6127 - val_acc: 0.4931\n",
            "Epoch 8/50\n",
            "27839/27839 [==============================] - 7s 248us/step - loss: 1.6532 - acc: 0.4728 - val_loss: 1.4318 - val_acc: 0.5398\n",
            "Epoch 9/50\n",
            "27839/27839 [==============================] - 7s 250us/step - loss: 1.5298 - acc: 0.5111 - val_loss: 1.3392 - val_acc: 0.5780\n",
            "Epoch 10/50\n",
            "27839/27839 [==============================] - 7s 250us/step - loss: 1.4192 - acc: 0.5468 - val_loss: 1.2485 - val_acc: 0.6175\n",
            "Epoch 11/50\n",
            "27839/27839 [==============================] - 7s 248us/step - loss: 1.3189 - acc: 0.5771 - val_loss: 1.1502 - val_acc: 0.6437\n",
            "Epoch 12/50\n",
            "27839/27839 [==============================] - 7s 249us/step - loss: 1.2233 - acc: 0.6107 - val_loss: 1.0416 - val_acc: 0.6918\n",
            "Epoch 13/50\n",
            "27839/27839 [==============================] - 7s 244us/step - loss: 1.1564 - acc: 0.6353 - val_loss: 1.0237 - val_acc: 0.6945\n",
            "Epoch 14/50\n",
            "27839/27839 [==============================] - 7s 248us/step - loss: 1.0866 - acc: 0.6586 - val_loss: 0.9607 - val_acc: 0.7172\n",
            "Epoch 15/50\n",
            "27839/27839 [==============================] - 7s 250us/step - loss: 1.0232 - acc: 0.6829 - val_loss: 0.8893 - val_acc: 0.7352\n",
            "Epoch 16/50\n",
            "27839/27839 [==============================] - 7s 250us/step - loss: 0.9841 - acc: 0.6917 - val_loss: 0.8181 - val_acc: 0.7631\n",
            "Epoch 17/50\n",
            "27839/27839 [==============================] - 7s 247us/step - loss: 0.9243 - acc: 0.7138 - val_loss: 0.7958 - val_acc: 0.7680\n",
            "Epoch 18/50\n",
            "27839/27839 [==============================] - 7s 245us/step - loss: 0.8880 - acc: 0.7276 - val_loss: 0.7866 - val_acc: 0.7651\n",
            "Epoch 19/50\n",
            "27839/27839 [==============================] - 7s 260us/step - loss: 0.8445 - acc: 0.7356 - val_loss: 0.6985 - val_acc: 0.8047\n",
            "Epoch 20/50\n",
            "27839/27839 [==============================] - 7s 251us/step - loss: 0.8136 - acc: 0.7535 - val_loss: 0.6915 - val_acc: 0.8003\n",
            "Epoch 21/50\n",
            "27839/27839 [==============================] - 7s 252us/step - loss: 0.7843 - acc: 0.7618 - val_loss: 0.6536 - val_acc: 0.8152\n",
            "Epoch 22/50\n",
            "27839/27839 [==============================] - 7s 250us/step - loss: 0.7587 - acc: 0.7723 - val_loss: 0.6418 - val_acc: 0.8165\n",
            "Epoch 23/50\n",
            "27839/27839 [==============================] - 7s 245us/step - loss: 0.7169 - acc: 0.7854 - val_loss: 0.6290 - val_acc: 0.8240\n",
            "Epoch 24/50\n",
            "27839/27839 [==============================] - 7s 252us/step - loss: 0.7182 - acc: 0.7796 - val_loss: 0.6043 - val_acc: 0.8240\n",
            "Epoch 25/50\n",
            "27839/27839 [==============================] - 7s 247us/step - loss: 0.6815 - acc: 0.7929 - val_loss: 0.5728 - val_acc: 0.8364\n",
            "Epoch 26/50\n",
            "27839/27839 [==============================] - 7s 248us/step - loss: 0.6561 - acc: 0.8035 - val_loss: 0.5526 - val_acc: 0.8489\n",
            "Epoch 27/50\n",
            "27839/27839 [==============================] - 7s 247us/step - loss: 0.6220 - acc: 0.8126 - val_loss: 0.5399 - val_acc: 0.8487\n",
            "Epoch 28/50\n",
            "27839/27839 [==============================] - 7s 252us/step - loss: 0.6253 - acc: 0.8166 - val_loss: 0.5250 - val_acc: 0.8527\n",
            "Epoch 29/50\n",
            "27839/27839 [==============================] - 7s 241us/step - loss: 0.6037 - acc: 0.8184 - val_loss: 0.4908 - val_acc: 0.8636\n",
            "Epoch 30/50\n",
            "27839/27839 [==============================] - 7s 243us/step - loss: 0.5743 - acc: 0.8306 - val_loss: 0.5010 - val_acc: 0.8593\n",
            "Epoch 31/50\n",
            "27839/27839 [==============================] - 7s 249us/step - loss: 0.5521 - acc: 0.8365 - val_loss: 0.5019 - val_acc: 0.8566\n",
            "Epoch 32/50\n",
            "27839/27839 [==============================] - 7s 239us/step - loss: 0.5457 - acc: 0.8347 - val_loss: 0.4567 - val_acc: 0.8723\n",
            "Epoch 33/50\n",
            "27839/27839 [==============================] - 7s 246us/step - loss: 0.5266 - acc: 0.8450 - val_loss: 0.4510 - val_acc: 0.8734\n",
            "Epoch 34/50\n",
            "27839/27839 [==============================] - 7s 246us/step - loss: 0.5057 - acc: 0.8510 - val_loss: 0.4359 - val_acc: 0.8764\n",
            "Epoch 35/50\n",
            "27839/27839 [==============================] - 7s 247us/step - loss: 0.4986 - acc: 0.8545 - val_loss: 0.4181 - val_acc: 0.8849\n",
            "Epoch 36/50\n",
            "27839/27839 [==============================] - 7s 243us/step - loss: 0.4808 - acc: 0.8583 - val_loss: 0.4112 - val_acc: 0.8885\n",
            "Epoch 37/50\n",
            "27839/27839 [==============================] - 7s 249us/step - loss: 0.4713 - acc: 0.8631 - val_loss: 0.4084 - val_acc: 0.8843\n",
            "Epoch 38/50\n",
            "27839/27839 [==============================] - 7s 242us/step - loss: 0.4546 - acc: 0.8641 - val_loss: 0.3877 - val_acc: 0.8920\n",
            "Epoch 39/50\n",
            "27839/27839 [==============================] - 7s 247us/step - loss: 0.4386 - acc: 0.8698 - val_loss: 0.4389 - val_acc: 0.8717\n",
            "Epoch 40/50\n",
            "27839/27839 [==============================] - 7s 249us/step - loss: 0.4303 - acc: 0.8735 - val_loss: 0.3651 - val_acc: 0.8993\n",
            "Epoch 41/50\n",
            "27839/27839 [==============================] - 7s 255us/step - loss: 0.4225 - acc: 0.8788 - val_loss: 0.3714 - val_acc: 0.8984\n",
            "Epoch 42/50\n",
            "27839/27839 [==============================] - 7s 249us/step - loss: 0.4177 - acc: 0.8773 - val_loss: 0.3771 - val_acc: 0.8930\n",
            "Epoch 43/50\n",
            "27839/27839 [==============================] - 7s 250us/step - loss: 0.4068 - acc: 0.8791 - val_loss: 0.3559 - val_acc: 0.9026\n",
            "Epoch 44/50\n",
            "27839/27839 [==============================] - 7s 252us/step - loss: 0.4030 - acc: 0.8807 - val_loss: 0.3354 - val_acc: 0.9062\n",
            "Epoch 45/50\n",
            "27839/27839 [==============================] - 7s 253us/step - loss: 0.3755 - acc: 0.8916 - val_loss: 0.3322 - val_acc: 0.9108\n",
            "Epoch 46/50\n",
            "27839/27839 [==============================] - 7s 246us/step - loss: 0.3814 - acc: 0.8880 - val_loss: 0.3390 - val_acc: 0.9066\n",
            "Epoch 47/50\n",
            "27839/27839 [==============================] - 7s 248us/step - loss: 0.3733 - acc: 0.8894 - val_loss: 0.3158 - val_acc: 0.9114\n",
            "Epoch 48/50\n",
            "27839/27839 [==============================] - 7s 249us/step - loss: 0.3604 - acc: 0.8942 - val_loss: 0.3085 - val_acc: 0.9159\n",
            "Epoch 49/50\n",
            "27839/27839 [==============================] - 7s 246us/step - loss: 0.3549 - acc: 0.8945 - val_loss: 0.3121 - val_acc: 0.9154\n",
            "Epoch 50/50\n",
            "27839/27839 [==============================] - 7s 253us/step - loss: 0.3443 - acc: 0.8993 - val_loss: 0.2989 - val_acc: 0.9174\n"
          ],
          "name": "stdout"
        }
      ]
    },
    {
      "cell_type": "code",
      "metadata": {
        "id": "3d5mXSlkADkW",
        "colab_type": "code",
        "outputId": "209f0aa1-d9c3-4b94-9bdc-35c71f728557",
        "colab": {
          "base_uri": "https://localhost:8080/",
          "height": 346
        }
      },
      "source": [
        "loss, accuracy  = model.evaluate(x_test, Y_test_cat, verbose=False)\n",
        "plot_loss_accuracy(history)\n",
        "print(f'Test loss: {loss:.3}')\n",
        "print(f'Test accuracy: {accuracy:.3}')"
      ],
      "execution_count": 0,
      "outputs": [
        {
          "output_type": "stream",
          "text": [
            "Test loss: 0.735\n",
            "Test accuracy: 0.828\n"
          ],
          "name": "stdout"
        },
        {
          "output_type": "display_data",
          "data": {
            "text/plain": [
              "<Figure size 576x432 with 0 Axes>"
            ]
          },
          "metadata": {
            "tags": []
          }
        },
        {
          "output_type": "display_data",
          "data": {
            "image/png": "[encoded data removed]",
            "text/plain": [
              "<Figure size 432x288 with 1 Axes>"
            ]
          },
          "metadata": {
            "tags": []
          }
        }
      ]
    },
    {
      "cell_type": "code",
      "metadata": {
        "id": "eTShGscBgqC0",
        "colab_type": "code",
        "outputId": "eb16a79b-ba3f-4331-8764-7d312777c4e9",
        "colab": {
          "base_uri": "https://localhost:8080/",
          "height": 357
        }
      },
      "source": [
        "def build_convnet():\n",
        "  model = Sequential()\n",
        "  \n",
        "  model.add(Conv2D(32, (3,3), activation='relu', padding='same', input_shape = image_size))\n",
        "  model.add(Conv2D(32, (3,3), activation='relu'))\n",
        "  model.add(MaxPooling2D(pool_size=(2, 2)))\n",
        "\n",
        "  model.add(Flatten())\n",
        "  model.add(Dense(256, activation='relu'))\n",
        "\n",
        "  model.add(Dense(n_classes, activation='softmax'))\n",
        "  \n",
        " \n",
        "  return model\n",
        "model = build_convnet()\n",
        "model.summary()"
      ],
      "execution_count": 0,
      "outputs": [
        {
          "output_type": "stream",
          "text": [
            "Model: \"sequential_17\"\n",
            "_________________________________________________________________\n",
            "Layer (type)                 Output Shape              Param #   \n",
            "=================================================================\n",
            "conv2d_13 (Conv2D)           (None, 32, 32, 32)        320       \n",
            "_________________________________________________________________\n",
            "conv2d_14 (Conv2D)           (None, 30, 30, 32)        9248      \n",
            "_________________________________________________________________\n",
            "max_pooling2d_7 (MaxPooling2 (None, 15, 15, 32)        0         \n",
            "_________________________________________________________________\n",
            "flatten_5 (Flatten)          (None, 7200)              0         \n",
            "_________________________________________________________________\n",
            "dense_43 (Dense)             (None, 256)               1843456   \n",
            "_________________________________________________________________\n",
            "dense_44 (Dense)             (None, 43)                11051     \n",
            "=================================================================\n",
            "Total params: 1,864,075\n",
            "Trainable params: 1,864,075\n",
            "Non-trainable params: 0\n",
            "_________________________________________________________________\n"
          ],
          "name": "stdout"
        }
      ]
    },
    {
      "cell_type": "code",
      "metadata": {
        "id": "NnTacGwWJ-EL",
        "colab_type": "code",
        "outputId": "36ce06cf-f911-4201-d067-0cfba405c9c7",
        "colab": {
          "base_uri": "https://localhost:8080/",
          "height": 661
        }
      },
      "source": [
        "plot_model(model,to_file='model.png')"
      ],
      "execution_count": 0,
      "outputs": [
        {
          "output_type": "execute_result",
          "data": {
            "image/png": "[encoded data removed]",
            "text/plain": [
              "<IPython.core.display.Image object>"
            ]
          },
          "metadata": {
            "tags": []
          },
          "execution_count": 74
        }
      ]
    },
    {
      "cell_type": "code",
      "metadata": {
        "id": "mMIONlqlg3f9",
        "colab_type": "code",
        "colab": {}
      },
      "source": [
        "X_train_processed, Y_train_cat = preprocess(X_train,Y_train)\n",
        "class_weights = compute_class_weight('balanced',classes = np.unique(Y_train),y = Y_train)"
      ],
      "execution_count": 0,
      "outputs": []
    },
    {
      "cell_type": "code",
      "metadata": {
        "id": "Ur9D7xvEgtud",
        "colab_type": "code",
        "colab": {}
      },
      "source": [
        "model.compile(optimizer=\"adam\", loss='categorical_crossentropy', metrics=['accuracy'])"
      ],
      "execution_count": 0,
      "outputs": []
    },
    {
      "cell_type": "code",
      "metadata": {
        "id": "wMcVPoCEh-vs",
        "colab_type": "code",
        "outputId": "2fbfabd3-2913-4017-8a68-d890288bd415",
        "colab": {
          "base_uri": "https://localhost:8080/",
          "height": 1000
        }
      },
      "source": [
        "history = model.fit(X_train_processed, Y_train_cat, batch_size=256, epochs=25, verbose=True, validation_split=.2,class_weight = class_weights)"
      ],
      "execution_count": 0,
      "outputs": [
        {
          "output_type": "stream",
          "text": [
            "WARNING:tensorflow:From /usr/local/lib/python3.6/dist-packages/tensorflow_core/python/ops/math_grad.py:1424: where (from tensorflow.python.ops.array_ops) is deprecated and will be removed in a future version.\n",
            "Instructions for updating:\n",
            "Use tf.where in 2.0, which has the same broadcast rule as np.where\n",
            "WARNING:tensorflow:From /usr/local/lib/python3.6/dist-packages/keras/backend/tensorflow_backend.py:1033: The name tf.assign_add is deprecated. Please use tf.compat.v1.assign_add instead.\n",
            "\n",
            "WARNING:tensorflow:From /usr/local/lib/python3.6/dist-packages/keras/backend/tensorflow_backend.py:1020: The name tf.assign is deprecated. Please use tf.compat.v1.assign instead.\n",
            "\n",
            "WARNING:tensorflow:From /usr/local/lib/python3.6/dist-packages/keras/backend/tensorflow_backend.py:3005: The name tf.Session is deprecated. Please use tf.compat.v1.Session instead.\n",
            "\n",
            "Train on 27839 samples, validate on 6960 samples\n",
            "Epoch 1/25\n",
            "WARNING:tensorflow:From /usr/local/lib/python3.6/dist-packages/keras/backend/tensorflow_backend.py:190: The name tf.get_default_session is deprecated. Please use tf.compat.v1.get_default_session instead.\n",
            "\n",
            "WARNING:tensorflow:From /usr/local/lib/python3.6/dist-packages/keras/backend/tensorflow_backend.py:197: The name tf.ConfigProto is deprecated. Please use tf.compat.v1.ConfigProto instead.\n",
            "\n",
            "WARNING:tensorflow:From /usr/local/lib/python3.6/dist-packages/keras/backend/tensorflow_backend.py:207: The name tf.global_variables is deprecated. Please use tf.compat.v1.global_variables instead.\n",
            "\n",
            "WARNING:tensorflow:From /usr/local/lib/python3.6/dist-packages/keras/backend/tensorflow_backend.py:216: The name tf.is_variable_initialized is deprecated. Please use tf.compat.v1.is_variable_initialized instead.\n",
            "\n",
            "WARNING:tensorflow:From /usr/local/lib/python3.6/dist-packages/keras/backend/tensorflow_backend.py:223: The name tf.variables_initializer is deprecated. Please use tf.compat.v1.variables_initializer instead.\n",
            "\n",
            "27839/27839 [==============================] - 86s 3ms/step - loss: 1.6400 - acc: 0.5875 - val_loss: 0.4445 - val_acc: 0.8889\n",
            "Epoch 2/25\n",
            "27839/27839 [==============================] - 84s 3ms/step - loss: 0.2387 - acc: 0.9416 - val_loss: 0.1894 - val_acc: 0.9559\n",
            "Epoch 3/25\n",
            "27839/27839 [==============================] - 87s 3ms/step - loss: 0.1136 - acc: 0.9731 - val_loss: 0.1492 - val_acc: 0.9641\n",
            "Epoch 4/25\n",
            "27839/27839 [==============================] - 84s 3ms/step - loss: 0.0614 - acc: 0.9857 - val_loss: 0.1228 - val_acc: 0.9707\n",
            "Epoch 5/25\n",
            "27839/27839 [==============================] - 84s 3ms/step - loss: 0.0432 - acc: 0.9898 - val_loss: 0.1084 - val_acc: 0.9750\n",
            "Epoch 6/25\n",
            "27839/27839 [==============================] - 84s 3ms/step - loss: 0.0269 - acc: 0.9944 - val_loss: 0.1062 - val_acc: 0.9757\n",
            "Epoch 7/25\n",
            "27839/27839 [==============================] - 85s 3ms/step - loss: 0.0207 - acc: 0.9954 - val_loss: 0.0888 - val_acc: 0.9816\n",
            "Epoch 8/25\n",
            "27839/27839 [==============================] - 86s 3ms/step - loss: 0.0143 - acc: 0.9971 - val_loss: 0.1165 - val_acc: 0.9730\n",
            "Epoch 9/25\n",
            "27839/27839 [==============================] - 86s 3ms/step - loss: 0.0161 - acc: 0.9962 - val_loss: 0.0913 - val_acc: 0.9805\n",
            "Epoch 10/25\n",
            "27839/27839 [==============================] - 87s 3ms/step - loss: 0.0153 - acc: 0.9960 - val_loss: 0.0905 - val_acc: 0.9813\n",
            "Epoch 11/25\n",
            "27839/27839 [==============================] - 85s 3ms/step - loss: 0.0145 - acc: 0.9964 - val_loss: 0.0885 - val_acc: 0.9826\n",
            "Epoch 12/25\n",
            "27839/27839 [==============================] - 85s 3ms/step - loss: 0.0068 - acc: 0.9987 - val_loss: 0.0879 - val_acc: 0.9830\n",
            "Epoch 13/25\n",
            "27839/27839 [==============================] - 85s 3ms/step - loss: 0.0173 - acc: 0.9958 - val_loss: 0.1148 - val_acc: 0.9751\n",
            "Epoch 14/25\n",
            "27839/27839 [==============================] - 87s 3ms/step - loss: 0.0184 - acc: 0.9948 - val_loss: 0.0840 - val_acc: 0.9842\n",
            "Epoch 15/25\n",
            "27839/27839 [==============================] - 88s 3ms/step - loss: 0.0051 - acc: 0.9991 - val_loss: 0.0827 - val_acc: 0.9853\n",
            "Epoch 16/25\n",
            "27839/27839 [==============================] - 87s 3ms/step - loss: 0.0062 - acc: 0.9988 - val_loss: 0.0802 - val_acc: 0.9855\n",
            "Epoch 17/25\n",
            "27839/27839 [==============================] - 89s 3ms/step - loss: 0.0014 - acc: 1.0000 - val_loss: 0.0773 - val_acc: 0.9865\n",
            "Epoch 18/25\n",
            "27839/27839 [==============================] - 85s 3ms/step - loss: 0.0011 - acc: 1.0000 - val_loss: 0.0776 - val_acc: 0.9872\n",
            "Epoch 19/25\n",
            "27839/27839 [==============================] - 85s 3ms/step - loss: 9.5817e-04 - acc: 1.0000 - val_loss: 0.0794 - val_acc: 0.9871\n",
            "Epoch 20/25\n",
            "27839/27839 [==============================] - 85s 3ms/step - loss: 8.9154e-04 - acc: 1.0000 - val_loss: 0.0794 - val_acc: 0.9874\n",
            "Epoch 21/25\n",
            "27839/27839 [==============================] - 83s 3ms/step - loss: 8.4490e-04 - acc: 1.0000 - val_loss: 0.0808 - val_acc: 0.9869\n",
            "Epoch 22/25\n",
            "27839/27839 [==============================] - 84s 3ms/step - loss: 8.0129e-04 - acc: 1.0000 - val_loss: 0.0813 - val_acc: 0.9869\n",
            "Epoch 23/25\n",
            "27839/27839 [==============================] - 84s 3ms/step - loss: 7.7881e-04 - acc: 1.0000 - val_loss: 0.0818 - val_acc: 0.9871\n",
            "Epoch 24/25\n",
            "27839/27839 [==============================] - 84s 3ms/step - loss: 7.5575e-04 - acc: 1.0000 - val_loss: 0.0828 - val_acc: 0.9872\n",
            "Epoch 25/25\n",
            "27839/27839 [==============================] - 85s 3ms/step - loss: 7.3882e-04 - acc: 1.0000 - val_loss: 0.0826 - val_acc: 0.9869\n"
          ],
          "name": "stdout"
        }
      ]
    },
    {
      "cell_type": "code",
      "metadata": {
        "id": "lpWmpqeF58_H",
        "colab_type": "code",
        "colab": {}
      },
      "source": [
        "X_test_processed, Y_test_processed = preprocess(X_test,Y_test)"
      ],
      "execution_count": 0,
      "outputs": []
    },
    {
      "cell_type": "code",
      "metadata": {
        "id": "vLT5auQx6UTd",
        "colab_type": "code",
        "colab": {}
      },
      "source": [
        "loss, accuracy  = model.evaluate(X_test_processed, Y_test_processed, verbose=False)"
      ],
      "execution_count": 0,
      "outputs": []
    },
    {
      "cell_type": "code",
      "metadata": {
        "id": "Em7P8ODX6hb7",
        "colab_type": "code",
        "outputId": "e459d6c0-0c6b-4e20-8b29-c646f2d47e98",
        "colab": {
          "base_uri": "https://localhost:8080/",
          "height": 346
        }
      },
      "source": [
        "plot_loss_accuracy(history)\n",
        "print(f'Test loss: {loss:.3}')\n",
        "print(f'Test accuracy: {accuracy:.3}')"
      ],
      "execution_count": 0,
      "outputs": [
        {
          "output_type": "stream",
          "text": [
            "Test loss: 0.499\n",
            "Test accuracy: 0.923\n"
          ],
          "name": "stdout"
        },
        {
          "output_type": "display_data",
          "data": {
            "text/plain": [
              "<Figure size 576x432 with 0 Axes>"
            ]
          },
          "metadata": {
            "tags": []
          }
        },
        {
          "output_type": "display_data",
          "data": {
            "image/png": "[encoded data removed]",
            "text/plain": [
              "<Figure size 432x288 with 1 Axes>"
            ]
          },
          "metadata": {
            "tags": []
          }
        }
      ]
    },
    {
      "cell_type": "code",
      "metadata": {
        "id": "CFjXzqKxaad1",
        "colab_type": "code",
        "outputId": "d5dce02f-dcb5-4a03-cc24-0f2e50e1fa00",
        "colab": {
          "base_uri": "https://localhost:8080/",
          "height": 459
        }
      },
      "source": [
        "def build_convnet():\n",
        "  model = Sequential()\n",
        "  \n",
        "  model.add(Conv2D(32, (3,3), activation='relu', padding='same', input_shape = image_size))\n",
        "  model.add(Conv2D(32, (3,3), activation='relu'))\n",
        "  model.add(MaxPooling2D(pool_size=(2, 2)))\n",
        "  model.add(Conv2D(64, (3, 3), activation = 'relu', padding='same'))\n",
        "\n",
        "  model.add(Conv2D(64, (3, 3), activation='relu'))\n",
        "\n",
        "  model.add(MaxPooling2D(pool_size=(2, 2)))\n",
        "  model.add(Flatten())\n",
        "  model.add(Dense(256, activation='relu'))\n",
        "\n",
        "  model.add(Dense(n_classes, activation='softmax'))\n",
        "  \n",
        " \n",
        "  return model\n",
        "model = build_convnet()\n",
        "model.summary()"
      ],
      "execution_count": 0,
      "outputs": [
        {
          "output_type": "stream",
          "text": [
            "Model: \"sequential_18\"\n",
            "_________________________________________________________________\n",
            "Layer (type)                 Output Shape              Param #   \n",
            "=================================================================\n",
            "conv2d_15 (Conv2D)           (None, 32, 32, 32)        320       \n",
            "_________________________________________________________________\n",
            "conv2d_16 (Conv2D)           (None, 30, 30, 32)        9248      \n",
            "_________________________________________________________________\n",
            "max_pooling2d_8 (MaxPooling2 (None, 15, 15, 32)        0         \n",
            "_________________________________________________________________\n",
            "conv2d_17 (Conv2D)           (None, 15, 15, 64)        18496     \n",
            "_________________________________________________________________\n",
            "conv2d_18 (Conv2D)           (None, 13, 13, 64)        36928     \n",
            "_________________________________________________________________\n",
            "max_pooling2d_9 (MaxPooling2 (None, 6, 6, 64)          0         \n",
            "_________________________________________________________________\n",
            "flatten_6 (Flatten)          (None, 2304)              0         \n",
            "_________________________________________________________________\n",
            "dense_45 (Dense)             (None, 256)               590080    \n",
            "_________________________________________________________________\n",
            "dense_46 (Dense)             (None, 43)                11051     \n",
            "=================================================================\n",
            "Total params: 666,123\n",
            "Trainable params: 666,123\n",
            "Non-trainable params: 0\n",
            "_________________________________________________________________\n"
          ],
          "name": "stdout"
        }
      ]
    },
    {
      "cell_type": "code",
      "metadata": {
        "id": "IkST7EZjKPqq",
        "colab_type": "code",
        "outputId": "7a5ba898-07c1-4464-bb60-b16c233a80b4",
        "colab": {
          "base_uri": "https://localhost:8080/",
          "height": 953
        }
      },
      "source": [
        "plot_model(model,to_file='model.png')"
      ],
      "execution_count": 0,
      "outputs": [
        {
          "output_type": "execute_result",
          "data": {
            "image/png": "[encoded data removed]",
            "text/plain": [
              "<IPython.core.display.Image object>"
            ]
          },
          "metadata": {
            "tags": []
          },
          "execution_count": 76
        }
      ]
    },
    {
      "cell_type": "code",
      "metadata": {
        "id": "ZK1GaufZa3Ov",
        "colab_type": "code",
        "outputId": "03bce582-a468-49f4-a76e-0d2d8bcd6356",
        "colab": {
          "base_uri": "https://localhost:8080/",
          "height": 884
        }
      },
      "source": [
        "model.compile(optimizer=\"adam\", loss='categorical_crossentropy', metrics=['accuracy'])\n",
        "history = model.fit(X_train_processed, Y_train_cat, batch_size=256, epochs=25, verbose=True, validation_split=.2,class_weight = class_weights)\n"
      ],
      "execution_count": 0,
      "outputs": [
        {
          "output_type": "stream",
          "text": [
            "Train on 27839 samples, validate on 6960 samples\n",
            "Epoch 1/25\n",
            "27839/27839 [==============================] - 136s 5ms/step - loss: 1.7359 - acc: 0.5392 - val_loss: 0.3327 - val_acc: 0.9003\n",
            "Epoch 2/25\n",
            "27839/27839 [==============================] - 136s 5ms/step - loss: 0.1500 - acc: 0.9592 - val_loss: 0.1259 - val_acc: 0.9687\n",
            "Epoch 3/25\n",
            "27839/27839 [==============================] - 135s 5ms/step - loss: 0.0674 - acc: 0.9820 - val_loss: 0.0762 - val_acc: 0.9828\n",
            "Epoch 4/25\n",
            "27839/27839 [==============================] - 135s 5ms/step - loss: 0.0333 - acc: 0.9913 - val_loss: 0.0792 - val_acc: 0.9830\n",
            "Epoch 5/25\n",
            "27839/27839 [==============================] - 135s 5ms/step - loss: 0.0208 - acc: 0.9945 - val_loss: 0.0634 - val_acc: 0.9856\n",
            "Epoch 6/25\n",
            "27839/27839 [==============================] - 134s 5ms/step - loss: 0.0164 - acc: 0.9960 - val_loss: 0.0596 - val_acc: 0.9882\n",
            "Epoch 7/25\n",
            "27839/27839 [==============================] - 136s 5ms/step - loss: 0.0094 - acc: 0.9979 - val_loss: 0.0642 - val_acc: 0.9872\n",
            "Epoch 8/25\n",
            "27839/27839 [==============================] - 135s 5ms/step - loss: 0.0109 - acc: 0.9974 - val_loss: 0.0613 - val_acc: 0.9895\n",
            "Epoch 9/25\n",
            "27839/27839 [==============================] - 137s 5ms/step - loss: 0.0111 - acc: 0.9969 - val_loss: 0.0555 - val_acc: 0.9894\n",
            "Epoch 10/25\n",
            "27839/27839 [==============================] - 135s 5ms/step - loss: 0.0038 - acc: 0.9995 - val_loss: 0.0624 - val_acc: 0.9881\n",
            "Epoch 11/25\n",
            "27839/27839 [==============================] - 136s 5ms/step - loss: 0.0077 - acc: 0.9984 - val_loss: 0.0669 - val_acc: 0.9855\n",
            "Epoch 12/25\n",
            "27839/27839 [==============================] - 135s 5ms/step - loss: 0.0080 - acc: 0.9985 - val_loss: 0.0635 - val_acc: 0.9882\n",
            "Epoch 13/25\n",
            "27839/27839 [==============================] - 135s 5ms/step - loss: 0.0039 - acc: 0.9993 - val_loss: 0.0544 - val_acc: 0.9912\n",
            "Epoch 14/25\n",
            "27839/27839 [==============================] - 135s 5ms/step - loss: 0.0053 - acc: 0.9988 - val_loss: 0.0817 - val_acc: 0.9833\n",
            "Epoch 15/25\n",
            "27839/27839 [==============================] - 136s 5ms/step - loss: 0.0170 - acc: 0.9950 - val_loss: 0.0968 - val_acc: 0.9774\n",
            "Epoch 16/25\n",
            "27839/27839 [==============================] - 135s 5ms/step - loss: 0.0131 - acc: 0.9966 - val_loss: 0.0560 - val_acc: 0.9886\n",
            "Epoch 17/25\n",
            "27839/27839 [==============================] - 136s 5ms/step - loss: 0.0041 - acc: 0.9993 - val_loss: 0.0458 - val_acc: 0.9925\n",
            "Epoch 18/25\n",
            "27839/27839 [==============================] - 137s 5ms/step - loss: 0.0085 - acc: 0.9980 - val_loss: 0.0501 - val_acc: 0.9897\n",
            "Epoch 19/25\n",
            "27839/27839 [==============================] - 136s 5ms/step - loss: 0.0027 - acc: 0.9996 - val_loss: 0.0475 - val_acc: 0.9909\n",
            "Epoch 20/25\n",
            "27839/27839 [==============================] - 136s 5ms/step - loss: 0.0040 - acc: 0.9993 - val_loss: 0.0460 - val_acc: 0.9931\n",
            "Epoch 21/25\n",
            "27839/27839 [==============================] - 136s 5ms/step - loss: 0.0014 - acc: 0.9999 - val_loss: 0.0480 - val_acc: 0.9928\n",
            "Epoch 22/25\n",
            "27839/27839 [==============================] - 135s 5ms/step - loss: 0.0012 - acc: 0.9999 - val_loss: 0.0479 - val_acc: 0.9924\n",
            "Epoch 23/25\n",
            "27839/27839 [==============================] - 135s 5ms/step - loss: 0.0012 - acc: 0.9999 - val_loss: 0.0475 - val_acc: 0.9924\n",
            "Epoch 24/25\n",
            "27839/27839 [==============================] - 135s 5ms/step - loss: 0.0012 - acc: 0.9999 - val_loss: 0.0477 - val_acc: 0.9924\n",
            "Epoch 25/25\n",
            "27839/27839 [==============================] - 135s 5ms/step - loss: 0.0012 - acc: 0.9999 - val_loss: 0.0478 - val_acc: 0.9924\n"
          ],
          "name": "stdout"
        }
      ]
    },
    {
      "cell_type": "code",
      "metadata": {
        "id": "4r3RsRnQbAEF",
        "colab_type": "code",
        "outputId": "1c362014-bdb0-4df8-ad12-7b33d75f2bc2",
        "colab": {
          "base_uri": "https://localhost:8080/",
          "height": 346
        }
      },
      "source": [
        "loss, accuracy  = model.evaluate(X_test_processed, Y_test_processed, verbose=False)\n",
        "plot_loss_accuracy(history)\n",
        "print(f'Test loss: {loss:.3}')\n",
        "print(f'Test accuracy: {accuracy:.3}')"
      ],
      "execution_count": 0,
      "outputs": [
        {
          "output_type": "stream",
          "text": [
            "Test loss: 0.43\n",
            "Test accuracy: 0.945\n"
          ],
          "name": "stdout"
        },
        {
          "output_type": "display_data",
          "data": {
            "text/plain": [
              "<Figure size 576x432 with 0 Axes>"
            ]
          },
          "metadata": {
            "tags": []
          }
        },
        {
          "output_type": "display_data",
          "data": {
            "image/png": "[encoded data removed]",
            "text/plain": [
              "<Figure size 432x288 with 1 Axes>"
            ]
          },
          "metadata": {
            "tags": []
          }
        }
      ]
    },
    {
      "cell_type": "code",
      "metadata": {
        "id": "hN4hoFBZrjsS",
        "colab_type": "code",
        "outputId": "7ee43fbb-baa4-40b3-c44c-8e19b9ebd863",
        "colab": {
          "base_uri": "https://localhost:8080/",
          "height": 700
        }
      },
      "source": [
        "def build_convnet():\n",
        "  model = Sequential()\n",
        "  \n",
        "  model.add(Conv2D(32, (3,3), activation='relu', padding='same', input_shape = image_size))\n",
        "  model.add(Conv2D(32, (3,3), activation='relu'))\n",
        "  model.add(MaxPooling2D(pool_size=(2, 2)))\n",
        "  model.add(Dropout(0.25))\n",
        "  model.add(Conv2D(64, (3, 3), activation = 'relu', padding='same'))\n",
        "  model.add(Conv2D(64, (3, 3), activation='relu'))\n",
        "  model.add(MaxPooling2D(pool_size=(2, 2)))\n",
        "  model.add(Dropout(0.25))\n",
        "  model.add(Flatten())\n",
        "  model.add(Dense(256, activation='relu'))\n",
        "  model.add(Dropout(0.25))\n",
        "  model.add(Dense(n_classes, activation='softmax'))\n",
        "  \n",
        " \n",
        "  return model\n",
        "model = build_convnet()\n",
        "model.summary()"
      ],
      "execution_count": 0,
      "outputs": [
        {
          "output_type": "stream",
          "text": [
            "WARNING:tensorflow:From /usr/local/lib/python3.6/dist-packages/keras/backend/tensorflow_backend.py:4267: The name tf.nn.max_pool is deprecated. Please use tf.nn.max_pool2d instead.\n",
            "\n",
            "WARNING:tensorflow:From /usr/local/lib/python3.6/dist-packages/keras/backend/tensorflow_backend.py:148: The name tf.placeholder_with_default is deprecated. Please use tf.compat.v1.placeholder_with_default instead.\n",
            "\n",
            "WARNING:tensorflow:From /usr/local/lib/python3.6/dist-packages/keras/backend/tensorflow_backend.py:3733: calling dropout (from tensorflow.python.ops.nn_ops) with keep_prob is deprecated and will be removed in a future version.\n",
            "Instructions for updating:\n",
            "Please use `rate` instead of `keep_prob`. Rate should be set to `rate = 1 - keep_prob`.\n",
            "Model: \"sequential_2\"\n",
            "_________________________________________________________________\n",
            "Layer (type)                 Output Shape              Param #   \n",
            "=================================================================\n",
            "conv2d_1 (Conv2D)            (None, 32, 32, 32)        320       \n",
            "_________________________________________________________________\n",
            "conv2d_2 (Conv2D)            (None, 30, 30, 32)        9248      \n",
            "_________________________________________________________________\n",
            "max_pooling2d_1 (MaxPooling2 (None, 15, 15, 32)        0         \n",
            "_________________________________________________________________\n",
            "dropout_1 (Dropout)          (None, 15, 15, 32)        0         \n",
            "_________________________________________________________________\n",
            "conv2d_3 (Conv2D)            (None, 15, 15, 64)        18496     \n",
            "_________________________________________________________________\n",
            "conv2d_4 (Conv2D)            (None, 13, 13, 64)        36928     \n",
            "_________________________________________________________________\n",
            "max_pooling2d_2 (MaxPooling2 (None, 6, 6, 64)          0         \n",
            "_________________________________________________________________\n",
            "dropout_2 (Dropout)          (None, 6, 6, 64)          0         \n",
            "_________________________________________________________________\n",
            "flatten_1 (Flatten)          (None, 2304)              0         \n",
            "_________________________________________________________________\n",
            "dense_3 (Dense)              (None, 256)               590080    \n",
            "_________________________________________________________________\n",
            "dropout_3 (Dropout)          (None, 256)               0         \n",
            "_________________________________________________________________\n",
            "dense_4 (Dense)              (None, 43)                11051     \n",
            "=================================================================\n",
            "Total params: 666,123\n",
            "Trainable params: 666,123\n",
            "Non-trainable params: 0\n",
            "_________________________________________________________________\n"
          ],
          "name": "stdout"
        }
      ]
    },
    {
      "cell_type": "code",
      "metadata": {
        "id": "oTxvRPZbrqcZ",
        "colab_type": "code",
        "outputId": "2451e87c-4d39-4b56-da30-d76f3fbda6a7",
        "colab": {
          "base_uri": "https://localhost:8080/",
          "height": 884
        }
      },
      "source": [
        "model.compile(optimizer=\"adam\", loss='categorical_crossentropy', metrics=['accuracy'])\n",
        "history = model.fit(X_train_processed, Y_train_cat, batch_size=256, epochs=25, verbose=True, validation_split=.2,class_weight = class_weights)"
      ],
      "execution_count": 0,
      "outputs": [
        {
          "output_type": "stream",
          "text": [
            "Train on 27839 samples, validate on 6960 samples\n",
            "Epoch 1/25\n",
            "27839/27839 [==============================] - 124s 4ms/step - loss: 2.3952 - acc: 0.3587 - val_loss: 0.6783 - val_acc: 0.8145\n",
            "Epoch 2/25\n",
            "27839/27839 [==============================] - 123s 4ms/step - loss: 0.5394 - acc: 0.8326 - val_loss: 0.1721 - val_acc: 0.9568\n",
            "Epoch 3/25\n",
            "27839/27839 [==============================] - 123s 4ms/step - loss: 0.2472 - acc: 0.9236 - val_loss: 0.0992 - val_acc: 0.9767\n",
            "Epoch 4/25\n",
            "27839/27839 [==============================] - 123s 4ms/step - loss: 0.1582 - acc: 0.9506 - val_loss: 0.0649 - val_acc: 0.9848\n",
            "Epoch 5/25\n",
            "27839/27839 [==============================] - 123s 4ms/step - loss: 0.1079 - acc: 0.9659 - val_loss: 0.0462 - val_acc: 0.9897\n",
            "Epoch 6/25\n",
            "27839/27839 [==============================] - 123s 4ms/step - loss: 0.0810 - acc: 0.9737 - val_loss: 0.0398 - val_acc: 0.9905\n",
            "Epoch 7/25\n",
            "27839/27839 [==============================] - 123s 4ms/step - loss: 0.0708 - acc: 0.9772 - val_loss: 0.0333 - val_acc: 0.9930\n",
            "Epoch 8/25\n",
            "27839/27839 [==============================] - 123s 4ms/step - loss: 0.0560 - acc: 0.9822 - val_loss: 0.0326 - val_acc: 0.9922\n",
            "Epoch 9/25\n",
            "27839/27839 [==============================] - 123s 4ms/step - loss: 0.0521 - acc: 0.9838 - val_loss: 0.0316 - val_acc: 0.9920\n",
            "Epoch 10/25\n",
            "27839/27839 [==============================] - 123s 4ms/step - loss: 0.0443 - acc: 0.9856 - val_loss: 0.0258 - val_acc: 0.9948\n",
            "Epoch 11/25\n",
            "27839/27839 [==============================] - 123s 4ms/step - loss: 0.0412 - acc: 0.9874 - val_loss: 0.0264 - val_acc: 0.9932\n",
            "Epoch 12/25\n",
            "27839/27839 [==============================] - 123s 4ms/step - loss: 0.0373 - acc: 0.9874 - val_loss: 0.0319 - val_acc: 0.9928\n",
            "Epoch 13/25\n",
            "27839/27839 [==============================] - 123s 4ms/step - loss: 0.0304 - acc: 0.9900 - val_loss: 0.0234 - val_acc: 0.9951\n",
            "Epoch 14/25\n",
            "27839/27839 [==============================] - 123s 4ms/step - loss: 0.0334 - acc: 0.9894 - val_loss: 0.0264 - val_acc: 0.9944\n",
            "Epoch 15/25\n",
            "27839/27839 [==============================] - 123s 4ms/step - loss: 0.0260 - acc: 0.9915 - val_loss: 0.0243 - val_acc: 0.9950\n",
            "Epoch 16/25\n",
            "27839/27839 [==============================] - 123s 4ms/step - loss: 0.0274 - acc: 0.9914 - val_loss: 0.0278 - val_acc: 0.9931\n",
            "Epoch 17/25\n",
            "27839/27839 [==============================] - 123s 4ms/step - loss: 0.0247 - acc: 0.9916 - val_loss: 0.0287 - val_acc: 0.9937\n",
            "Epoch 18/25\n",
            "27839/27839 [==============================] - 123s 4ms/step - loss: 0.0220 - acc: 0.9927 - val_loss: 0.0253 - val_acc: 0.9941\n",
            "Epoch 19/25\n",
            "27839/27839 [==============================] - 123s 4ms/step - loss: 0.0193 - acc: 0.9941 - val_loss: 0.0259 - val_acc: 0.9950\n",
            "Epoch 20/25\n",
            "27839/27839 [==============================] - 123s 4ms/step - loss: 0.0194 - acc: 0.9935 - val_loss: 0.0214 - val_acc: 0.9960\n",
            "Epoch 21/25\n",
            "27839/27839 [==============================] - 123s 4ms/step - loss: 0.0171 - acc: 0.9944 - val_loss: 0.0230 - val_acc: 0.9953\n",
            "Epoch 22/25\n",
            "27839/27839 [==============================] - 124s 4ms/step - loss: 0.0170 - acc: 0.9943 - val_loss: 0.0238 - val_acc: 0.9947\n",
            "Epoch 23/25\n",
            "27839/27839 [==============================] - 124s 4ms/step - loss: 0.0161 - acc: 0.9950 - val_loss: 0.0184 - val_acc: 0.9950\n",
            "Epoch 24/25\n",
            "27839/27839 [==============================] - 124s 4ms/step - loss: 0.0164 - acc: 0.9947 - val_loss: 0.0200 - val_acc: 0.9960\n",
            "Epoch 25/25\n",
            "27839/27839 [==============================] - 124s 4ms/step - loss: 0.0175 - acc: 0.9946 - val_loss: 0.0203 - val_acc: 0.9958\n"
          ],
          "name": "stdout"
        }
      ]
    },
    {
      "cell_type": "code",
      "metadata": {
        "id": "7qTg9nYzrzBZ",
        "colab_type": "code",
        "outputId": "c33e1a9e-5908-454e-c140-da9409399271",
        "colab": {
          "base_uri": "https://localhost:8080/",
          "height": 346
        }
      },
      "source": [
        "loss, accuracy  = model.evaluate(X_test_processed, Y_test_processed, verbose=False)\n",
        "plot_loss_accuracy(history)\n",
        "print(f'Test loss: {loss:.3}')\n",
        "print(f'Test accuracy: {accuracy:.3}')"
      ],
      "execution_count": 0,
      "outputs": [
        {
          "output_type": "stream",
          "text": [
            "Test loss: 0.189\n",
            "Test accuracy: 0.964\n"
          ],
          "name": "stdout"
        },
        {
          "output_type": "display_data",
          "data": {
            "text/plain": [
              "<Figure size 576x432 with 0 Axes>"
            ]
          },
          "metadata": {
            "tags": []
          }
        },
        {
          "output_type": "display_data",
          "data": {
            "image/png": "[encoded data removed]",
            "text/plain": [
              "<Figure size 432x288 with 1 Axes>"
            ]
          },
          "metadata": {
            "tags": []
          }
        }
      ]
    },
    {
      "cell_type": "code",
      "metadata": {
        "id": "AXt8gIcl9f8u",
        "colab_type": "code",
        "colab": {}
      },
      "source": [
        "y_prob = model.predict(X_test_processed) \n",
        "y_classes = y_prob.argmax(axis=-1)"
      ],
      "execution_count": 0,
      "outputs": []
    },
    {
      "cell_type": "code",
      "metadata": {
        "id": "XJWqTtcRHdxl",
        "colab_type": "code",
        "outputId": "69f4c75c-1762-4fa8-d909-588da72ad6e2",
        "colab": {
          "base_uri": "https://localhost:8080/",
          "height": 600
        }
      },
      "source": [
        "show_hist(Y_test, \"Test examples\")\n",
        "show_hist(y_classes, \"Predicted Values\")"
      ],
      "execution_count": 0,
      "outputs": [
        {
          "output_type": "stream",
          "text": [
            "/usr/local/lib/python3.6/dist-packages/matplotlib/cbook/__init__.py:424: MatplotlibDeprecationWarning: \n",
            "Passing one of 'on', 'true', 'off', 'false' as a boolean is deprecated; use an actual boolean (True/False) instead.\n",
            "  warn_deprecated(\"2.2\", \"Passing one of 'on', 'true', 'off', 'false' as a \"\n"
          ],
          "name": "stderr"
        },
        {
          "output_type": "display_data",
          "data": {
            "image/png": "[encoded data removed]",
            "text/plain": [
              "<Figure size 432x288 with 1 Axes>"
            ]
          },
          "metadata": {
            "tags": []
          }
        },
        {
          "output_type": "display_data",
          "data": {
            "image/png": "[encoded data removed]",
            "text/plain": [
              "<Figure size 432x288 with 1 Axes>"
            ]
          },
          "metadata": {
            "tags": []
          }
        }
      ]
    },
    {
      "cell_type": "code",
      "metadata": {
        "id": "VIRdE6NE8QM0",
        "colab_type": "code",
        "colab": {}
      },
      "source": [
        "from sklearn.metrics import classification_report\n",
        "Y_test_class = np.argmax(Y_test_processed, axis=1)\n",
        "y_pred = model.predict_classes(X_test_processed)\n",
        "print(classification_report(Y_test_class, y_pred))"
      ],
      "execution_count": 0,
      "outputs": []
    },
    {
      "cell_type": "code",
      "metadata": {
        "id": "teLrMNhy61ri",
        "colab_type": "code",
        "outputId": "951ef388-cfef-4ab6-e59c-64875ef8405e",
        "colab": {
          "base_uri": "https://localhost:8080/",
          "height": 1000
        }
      },
      "source": [
        "from keras.utils import plot_model\n",
        "plot_model(model,to_file='model.png')"
      ],
      "execution_count": 0,
      "outputs": [
        {
          "output_type": "execute_result",
          "data": {
            "image/png": "[encoded data removed]",
            "text/plain": [
              "<IPython.core.display.Image object>"
            ]
          },
          "metadata": {
            "tags": []
          },
          "execution_count": 40
        }
      ]
    }
  ]
}